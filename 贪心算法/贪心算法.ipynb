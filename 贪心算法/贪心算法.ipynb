{
 "cells": [
  {
   "cell_type": "markdown",
   "metadata": {},
   "source": [
    "## 贪心算法\n",
    "贪心选择：每一步都做出一个局部最优的选择，最终的结果就是全局最优。"
   ]
  },
  {
   "cell_type": "code",
   "execution_count": 3,
   "metadata": {},
   "outputs": [],
   "source": [
    "\"\"\"\n",
    "题目1：区间调度问题\n",
    "（1）题目描述：给定一个区间的集合，找到需要移除区间的最小数量，使剩余区间互不重叠。\n",
    "注意:\n",
    "可以认为区间的终点总是大于它的起点。\n",
    "区间 [1,2] 和 [2,3] 的边界相互“接触”，但没有相互重叠。\n",
    "示例 1:\n",
    "输入: [ [1,2], [2,3], [3,4], [1,3] ]\n",
    "输出: 1\n",
    "解释: 移除 [1,3] 后，剩下的区间没有重叠。\n",
    "示例 2:\n",
    "输入: [ [1,2], [1,2], [1,2] ]\n",
    "输出: 2\n",
    "解释: 你需要移除两个 [1,2] 来使剩下的区间没有重叠。\n",
    "（2）解题思路：\n",
    "正确的思路其实很简单，可以分为以下三步：\n",
    "1）从区间集合 intvs 中选择一个区间 x，这个 x 是在当前所有区间中结束最早的（end 最小）。\n",
    "2）把所有与 x 区间相交的区间从区间集合 intvs 中删除。\n",
    "3）重复步骤 1 和 2，直到 intvs 为空为止。之前选出的那些 x 就是最大不相交子集。\n",
    "（3）本题：\n",
    "1）把所有区间，按照结束节点排序；相当于将题目转化为===》最小移出数量，使剩下的不重叠区间最多，\n",
    "   也即选出最多不重叠区间，剩下的即为要去除的。\n",
    "2）按照解题思路的“三步”进行即可\n",
    "\"\"\"\n",
    "# encoding = utf-8\n",
    "class Solution(object):\n",
    "    def eraseOverlapIntervals(self, intervals):\n",
    "        if len(intervals) == 0:\n",
    "            return 0\n",
    "        # 按照结束节点排序\n",
    "        first_1 = sorted(intervals, key=lambda x: (x[1], x[0]))\n",
    "        # 去重\n",
    "        first = []\n",
    "        for i in first_1:\n",
    "            if i not in first:\n",
    "                first.append(i)\n",
    "        # 贪心算法\n",
    "        \"\"\"\n",
    "        正确的思路其实很简单，可以分为以下三步：\n",
    "        1）从区间集合 intvs 中选择一个区间 x，这个 x 是在当前所有区间中结束最早的（end 最小）。\n",
    "        2）把所有与 x 区间相交的区间从区间集合 intvs 中删除。\n",
    "        3）重复步骤 1 和 2，直到 intvs 为空为止。之前选出的那些 x 就是最大不相交子集。\n",
    "        \"\"\"\n",
    "        # 选择一个结束最早的区间\n",
    "        second = []\n",
    "        # 删除与其相交的区间\n",
    "        while len(first) > 0:\n",
    "            third = first.pop(0)\n",
    "            second.append(third)\n",
    "            if len(first) > 0:\n",
    "                # 记录重叠元素\n",
    "                fourth = []\n",
    "                for i in first:\n",
    "                    \"\"\"\n",
    "                    注意：下面只能是：i[0] < third[1] <= i[1]\n",
    "                    例如：[-72, -50], [-68, -50], [-66, -50] 会去掉 [-68, -50], [-66, -50]\n",
    "                    如果：i[0] <= third[1] <= i[1] 或 i[0] <= third[1] <= i[1] <-- 错误\n",
    "                    例如：[[1,2],[2,3]] 会去掉[2,3] \n",
    "                    也即：判断重叠，必须前一个节点的结束节点 > 重叠节点的开始节点 ，可以 <= 重叠节点结束节点 \n",
    "                    \"\"\"\n",
    "                    if i[0] <= third[1] <= i[1]:\n",
    "                        fourth.append(i)\n",
    "                \"\"\"\n",
    "                注意：此处不能在上面直接去重，会导致错误，错误如下\n",
    "                if i[0] < third[1] <= i[1]:\n",
    "                        fourth.append(i) \n",
    "                        first.remove(i) <--错误，因为这样会改变first，再在上面 for i in first ，该first已经改变出错\n",
    "                                                 出错为：first已经改变而 i 还是按照原来的检索 i++\n",
    "                \"\"\"\n",
    "                for j in fourth:\n",
    "                    first.remove(j)\n",
    "        return len(intervals) - len(second)"
   ]
  },
  {
   "cell_type": "code",
   "execution_count": 4,
   "metadata": {},
   "outputs": [
    {
     "name": "stdout",
     "output_type": "stream",
     "text": [
      "5\n"
     ]
    }
   ],
   "source": [
    "s = Solution()\n",
    "data = [[-100, -87], [-85, -76], [-72, -50], [-68, -50], [-66, -50], [-50, -43], [-41, -32], [-17, -10], [-8, 3], [9, 19], [19, 37], [23, 37], [39, 46], [49, 61], [61, 73], [81, 104]]\n",
    "result = s.eraseOverlapIntervals(data)\n",
    "print(result)"
   ]
  },
  {
   "cell_type": "code",
   "execution_count": null,
   "metadata": {},
   "outputs": [],
   "source": []
  },
  {
   "cell_type": "code",
   "execution_count": null,
   "metadata": {},
   "outputs": [],
   "source": []
  },
  {
   "cell_type": "code",
   "execution_count": null,
   "metadata": {},
   "outputs": [],
   "source": []
  },
  {
   "cell_type": "code",
   "execution_count": null,
   "metadata": {},
   "outputs": [],
   "source": []
  },
  {
   "cell_type": "code",
   "execution_count": null,
   "metadata": {},
   "outputs": [],
   "source": []
  },
  {
   "cell_type": "code",
   "execution_count": null,
   "metadata": {},
   "outputs": [],
   "source": []
  },
  {
   "cell_type": "code",
   "execution_count": null,
   "metadata": {},
   "outputs": [],
   "source": []
  },
  {
   "cell_type": "code",
   "execution_count": null,
   "metadata": {},
   "outputs": [],
   "source": []
  }
 ],
 "metadata": {
  "kernelspec": {
   "display_name": "Python 3",
   "language": "python",
   "name": "python3"
  },
  "language_info": {
   "codemirror_mode": {
    "name": "ipython",
    "version": 3
   },
   "file_extension": ".py",
   "mimetype": "text/x-python",
   "name": "python",
   "nbconvert_exporter": "python",
   "pygments_lexer": "ipython3",
   "version": "3.7.0"
  }
 },
 "nbformat": 4,
 "nbformat_minor": 2
}
