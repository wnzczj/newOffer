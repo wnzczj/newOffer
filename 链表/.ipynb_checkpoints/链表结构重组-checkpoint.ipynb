{
 "cells": [
  {
   "cell_type": "markdown",
   "metadata": {},
   "source": [
    "## 涉及题目\n",
    "15."
   ]
  },
  {
   "cell_type": "code",
   "execution_count": 1,
   "metadata": {},
   "outputs": [],
   "source": [
    "# 创建链表节点\n",
    "class ListNode:\n",
    "    def __init__(self, x):\n",
    "        self.val = x\n",
    "        self.next = None"
   ]
  },
  {
   "cell_type": "code",
   "execution_count": 2,
   "metadata": {},
   "outputs": [],
   "source": [
    "# 创建方法\n",
    "class Solution:\n",
    "    # 链表反转\n",
    "    # 注意情况：[]\n",
    "    def ReverseList(self, pHead):\n",
    "        # write code here\n",
    "        if pHead is None:\n",
    "            return None\n",
    "        first = []\n",
    "        # 收集节点\n",
    "        while pHead is not None:\n",
    "            first.append(pHead)\n",
    "            pHead = pHead.next\n",
    "        for i in first:\n",
    "            i.next = None\n",
    "        # 反转\n",
    "        for i in range(len(first)-1,0,-1):\n",
    "            first[i].next = first[i-1]\n",
    "        return first[-1]\n",
    "    \n",
    "    # 删除排序链表中重复的节点\n",
    "    # 注意情况：\n",
    "    # 空：[]\n",
    "    # 全是重复节点：[1,1,1,1,1]\n",
    "    def deleteDuplication(self, pHead):\n",
    "        if pHead is None:\n",
    "            return None\n",
    "        # 收集链表节点,获得对应值和次数\n",
    "        first = []\n",
    "        while pHead is not None:\n",
    "            # 分别对应：[节点，节点值，次数]\n",
    "            first.append([pHead,pHead.val,0])\n",
    "            pHead = pHead.next\n",
    "        # 初始化节点值次数词典\n",
    "        second = {}\n",
    "        for i in first:\n",
    "            second[i[1]] = 0\n",
    "        # 获得节点出现次数\n",
    "        for i in first:\n",
    "            if i[1] in second.keys():\n",
    "                second[i[1]] += 1\n",
    "        # 选取重复节点\n",
    "        third = []\n",
    "        for i in second.keys():\n",
    "            if second[i] > 1:\n",
    "                third.append(i)\n",
    "        # 获得节点\n",
    "        forth = []\n",
    "        for i in first:\n",
    "            if i[1] not in third:\n",
    "                forth.append(i[0])\n",
    "        # 如果全是重复节点\n",
    "        if len(forth) == 0:\n",
    "            return None\n",
    "        # 重建链表\n",
    "        for i in forth:\n",
    "            i.next = None\n",
    "        for i in range(len(forth)-1):\n",
    "            forth[i].next = forth[i+1]\n",
    "        return forth[0]\n",
    "    "
   ]
  },
  {
   "cell_type": "code",
   "execution_count": 3,
   "metadata": {},
   "outputs": [],
   "source": [
    "# 创建链表\n",
    "l1 = ListNode(1)\n",
    "l2 = ListNode(2)\n",
    "l3 = ListNode(3)\n",
    "l4 = ListNode(4)\n",
    "l5 = ListNode(5)\n",
    "\n",
    "l1.next = l2\n",
    "l2.next = l3\n",
    "l3.next = l4\n",
    "l4.next = l5"
   ]
  },
  {
   "cell_type": "code",
   "execution_count": null,
   "metadata": {},
   "outputs": [],
   "source": [
    "# 测试"
   ]
  }
 ],
 "metadata": {
  "kernelspec": {
   "display_name": "Python 3",
   "language": "python",
   "name": "python3"
  },
  "language_info": {
   "codemirror_mode": {
    "name": "ipython",
    "version": 3
   },
   "file_extension": ".py",
   "mimetype": "text/x-python",
   "name": "python",
   "nbconvert_exporter": "python",
   "pygments_lexer": "ipython3",
   "version": "3.7.0"
  }
 },
 "nbformat": 4,
 "nbformat_minor": 2
}
