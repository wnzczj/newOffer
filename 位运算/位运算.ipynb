{
 "cells": [
  {
   "cell_type": "markdown",
   "metadata": {},
   "source": [
    "## 位运算\n",
    "基本操作：\n",
    "\n",
    "（1）左移右移\n",
    "\n",
    "（2）按位与、或、异或、取反"
   ]
  },
  {
   "cell_type": "code",
   "execution_count": 25,
   "metadata": {},
   "outputs": [],
   "source": [
    "\"\"\"\n",
    "基础题型1：二进制数中1的个数\n",
    "题目：给定一个二进制数，获取该二进制数中1的个数\n",
    "例如：给定：0b1011，则 1 的个数为 3个\n",
    "\"\"\"\n",
    "\"\"\"\n",
    "二进制：原码 <==> 补码相互转换工具函数：\n",
    "\"\"\"\n",
    "# 获得二进制补码\n",
    "def intToBin32( i):\n",
    "    return (bin(((1 << 32) - 1) & i)[2:]).zfill(32)\n",
    "\n",
    "# 补码转回原来的二进制原码\n",
    "# 注意：此处传入的参数：s ：已经等得的二进制的补码，一共32位\n",
    "# 例如：s = '11111111111111111111111111111111' ，则 s 为 -1 对应的补码\n",
    "# 输出：-1\n",
    "def bin32ToInt(s):\n",
    "    return int(s[1:], 2) - int(s[0]) * (1 << 31)"
   ]
  },
  {
   "cell_type": "code",
   "execution_count": 30,
   "metadata": {},
   "outputs": [],
   "source": [
    "\"\"\"\n",
    "本题解法1：将整数转化为二进制补码之后，将二进制转化为list列表，求list中1的个数\n",
    "\"\"\"\n",
    "# 获得二进制补码，包括负数\n",
    "def intToBin32(i):\n",
    "    return (bin(((1 << 32) - 1) & i)[2:]).zfill(32)\n",
    "\n",
    "def sum_bin(num):\n",
    "    # 将num转化为二进制补码\n",
    "    num_new = intToBin32(num)\n",
    "    count = 0\n",
    "    for i in num_new:\n",
    "        if i == '1':\n",
    "            count += 1\n",
    "    return count"
   ]
  },
  {
   "cell_type": "code",
   "execution_count": null,
   "metadata": {},
   "outputs": [],
   "source": [
    "\"\"\"\n",
    "本题解法2：通过移位操作来做\n",
    "解题思路：\n",
    "例如：num = 3 ==> 补码：0011 ==> 将其与 1（即：0001）进行与操作，得：0001，说明该位置数为1\n",
    "      ==> 将 3 右移1位，得：0001 ==> 再与1进行与操作，得：0001，说明该位置数为1 \n",
    "      ==> 将0001 右移1位，得0000，则此时为0，停止运行\n",
    "原理：通过与1（即：0001）进行与操作（即：过滤操作），结合原来数字右移直至为0，可不断获得1的个数\n",
    "\"\"\"\n",
    "\"\"\"\n",
    "注意：num 为 负数情况：此时 num 为 负数\n",
    "则：将 num ==> 对应补码 ==> 则将 该补码当成某个正数的补码来看即可\n",
    "即：int(first, 2)，注意int( , 2)中2表示int整型当成2进制来看\n",
    "\"\"\"\n",
    "# 位操作获得\n",
    "def wei(self,num):\n",
    "    # num 为负数情况\n",
    "    if num < 0:\n",
    "        # 转换为补码形式：\n",
    "        first = self.intToBin32(num)\n",
    "        # 获得补码对应的正数\n",
    "        num = int(first, 2)\n",
    "    count = 0\n",
    "    while num > 0:\n",
    "        # 与1进行与操作\n",
    "        first = num & 1\n",
    "        if first == 1:\n",
    "            count += 1\n",
    "        # 将num右移一位\n",
    "        num = num >> 1\n",
    "    return count"
   ]
  },
  {
   "cell_type": "code",
   "execution_count": null,
   "metadata": {},
   "outputs": [],
   "source": [
    "\"\"\"\n",
    "本题解法3：通过使用不同种过滤器实现\n",
    "例如：二进制数字：1011 1100，计算方法为：\n",
    "（1）过滤器：01 ，则对应上面，获得过滤器：0101 0101 ，将其与原数字进行与操作\n",
    "（2）过滤器：0011，则对应上面，获得过滤器：0011 0011，将其与原数字进行与操作\n",
    "（3）过滤器：0000 1111，则对应上上面，获得过滤器：0000 1111，将其与原数字进行与操作\n",
    "\"\"\"\n"
   ]
  },
  {
   "cell_type": "code",
   "execution_count": 57,
   "metadata": {},
   "outputs": [],
   "source": [
    "# 获得b1\n",
    "b1 = bin(int('11010010',2) & int('01010101',2))"
   ]
  },
  {
   "cell_type": "code",
   "execution_count": 58,
   "metadata": {},
   "outputs": [],
   "source": [
    "# 获得b2\n",
    "b2 = bin(int('11010010',2)>>1 & int('01010101',2))"
   ]
  },
  {
   "cell_type": "code",
   "execution_count": 67,
   "metadata": {},
   "outputs": [],
   "source": [
    "c = bin(int(b1,2)+int(b2,2))"
   ]
  },
  {
   "cell_type": "code",
   "execution_count": 71,
   "metadata": {},
   "outputs": [],
   "source": [
    "c1 = bin(int(c,2) & int('00110011',2))"
   ]
  },
  {
   "cell_type": "code",
   "execution_count": 72,
   "metadata": {},
   "outputs": [],
   "source": [
    "c2 = bin(int(c,2) >> 2 & int('00110011',2))"
   ]
  },
  {
   "cell_type": "code",
   "execution_count": 73,
   "metadata": {},
   "outputs": [],
   "source": [
    "e = bin(int(c1,2)+int(c2,2))"
   ]
  },
  {
   "cell_type": "code",
   "execution_count": 75,
   "metadata": {},
   "outputs": [],
   "source": [
    "e1 = bin(int(e,2) & int('00001111',2))"
   ]
  },
  {
   "cell_type": "code",
   "execution_count": 76,
   "metadata": {},
   "outputs": [],
   "source": [
    "e2 = bin(int(e,2) >> 4 & int('00001111',2))"
   ]
  },
  {
   "cell_type": "code",
   "execution_count": 78,
   "metadata": {},
   "outputs": [
    {
     "data": {
      "text/plain": [
       "4"
      ]
     },
     "execution_count": 78,
     "metadata": {},
     "output_type": "execute_result"
    }
   ],
   "source": [
    "int(e1,2)+int(e2,2)"
   ]
  },
  {
   "cell_type": "code",
   "execution_count": 85,
   "metadata": {},
   "outputs": [],
   "source": [
    "# 获取3种过滤器\n",
    "g1 = int('55555555',16)\n",
    "g2 = int('33333333',16)\n",
    "g3 = int('0f0f0f0f',16)"
   ]
  },
  {
   "cell_type": "code",
   "execution_count": 92,
   "metadata": {},
   "outputs": [],
   "source": [
    "# 获得数字对应32位\n",
    "num = intToBin32(210)"
   ]
  },
  {
   "cell_type": "code",
   "execution_count": 110,
   "metadata": {},
   "outputs": [
    {
     "data": {
      "text/plain": [
       "'0b1100110011001100110011001111'"
      ]
     },
     "execution_count": 110,
     "metadata": {},
     "output_type": "execute_result"
    }
   ],
   "source": [
    "bin(214748367)"
   ]
  },
  {
   "cell_type": "code",
   "execution_count": 112,
   "metadata": {},
   "outputs": [],
   "source": [
    "num = 214748367"
   ]
  },
  {
   "cell_type": "code",
   "execution_count": null,
   "metadata": {},
   "outputs": [],
   "source": [
    "num：0b00001100110011001100110011001111\n",
    "g1 ：0b01010101010101010101010101010101\n",
    "b1 : 0b00000100010001000100010001000101\n",
    "num: 0b00000110011001100110011001100111\n",
    "g1 ：0b01010101010101010101010101010101\n",
    "b2 : 0b00000100010001000100010001000101\n",
    "c  : 0b00001000100010001000100010001010\n",
    "g2 : 0b00110011001100110011001100110011\n",
    "c1 : 0b00000000000000000000000000000010\n",
    "c2 : 0b00000010001000100010001000100010\n",
    "e  : 0b00000010001000100010001000100100\n",
    "e1 : 0b00000010000000100000001000000100     \n",
    "e2 : 0b00000000000000100000001000000010\n",
    "fin: 0b00000010000001000000010000000110"
   ]
  },
  {
   "cell_type": "code",
   "execution_count": 113,
   "metadata": {},
   "outputs": [],
   "source": [
    "b1 = num & g1\n",
    "b2 = num>>1 & g1\n",
    "c = b1 + b2\n",
    "c1 = c & g2\n",
    "c2 = c>>2 & g2\n",
    "e = c1 + c2\n",
    "e1 = e & g3\n",
    "e2 = e>>4 & g3\n",
    "final = e1 + e2"
   ]
  },
  {
   "cell_type": "code",
   "execution_count": 129,
   "metadata": {},
   "outputs": [
    {
     "data": {
      "text/plain": [
       "'0b10000001000000010000000110'"
      ]
     },
     "execution_count": 129,
     "metadata": {},
     "output_type": "execute_result"
    }
   ],
   "source": [
    "bin(final)"
   ]
  },
  {
   "cell_type": "code",
   "execution_count": 114,
   "metadata": {},
   "outputs": [
    {
     "data": {
      "text/plain": [
       "33817606"
      ]
     },
     "execution_count": 114,
     "metadata": {},
     "output_type": "execute_result"
    }
   ],
   "source": [
    "final"
   ]
  },
  {
   "cell_type": "code",
   "execution_count": 103,
   "metadata": {},
   "outputs": [
    {
     "ename": "TypeError",
     "evalue": "int() can't convert non-string with explicit base",
     "output_type": "error",
     "traceback": [
      "\u001b[1;31m---------------------------------------------------------------------------\u001b[0m",
      "\u001b[1;31mTypeError\u001b[0m                                 Traceback (most recent call last)",
      "\u001b[1;32m<ipython-input-103-02a385f6684f>\u001b[0m in \u001b[0;36m<module>\u001b[1;34m()\u001b[0m\n\u001b[0;32m      1\u001b[0m \u001b[1;31m# 获得b1\u001b[0m\u001b[1;33m\u001b[0m\u001b[1;33m\u001b[0m\u001b[0m\n\u001b[0;32m      2\u001b[0m \u001b[0mb1\u001b[0m \u001b[1;33m=\u001b[0m \u001b[0mbin\u001b[0m\u001b[1;33m(\u001b[0m\u001b[0mnum\u001b[0m \u001b[1;33m&\u001b[0m \u001b[0mg1\u001b[0m\u001b[1;33m)\u001b[0m\u001b[1;33m\u001b[0m\u001b[0m\n\u001b[1;32m----> 3\u001b[1;33m \u001b[0mb2\u001b[0m \u001b[1;33m=\u001b[0m \u001b[0mbin\u001b[0m\u001b[1;33m(\u001b[0m\u001b[0mint\u001b[0m\u001b[1;33m(\u001b[0m\u001b[0mnum\u001b[0m\u001b[1;33m,\u001b[0m\u001b[1;36m2\u001b[0m\u001b[1;33m)\u001b[0m\u001b[1;33m>>\u001b[0m\u001b[1;36m1\u001b[0m \u001b[1;33m&\u001b[0m \u001b[0mint\u001b[0m\u001b[1;33m(\u001b[0m\u001b[0mg1\u001b[0m\u001b[1;33m,\u001b[0m\u001b[1;36m2\u001b[0m\u001b[1;33m)\u001b[0m\u001b[1;33m)\u001b[0m\u001b[1;33m\u001b[0m\u001b[0m\n\u001b[0m\u001b[0;32m      4\u001b[0m \u001b[0mc\u001b[0m \u001b[1;33m=\u001b[0m \u001b[0mbin\u001b[0m\u001b[1;33m(\u001b[0m\u001b[0mint\u001b[0m\u001b[1;33m(\u001b[0m\u001b[0mb1\u001b[0m\u001b[1;33m,\u001b[0m\u001b[1;36m2\u001b[0m\u001b[1;33m)\u001b[0m\u001b[1;33m+\u001b[0m\u001b[0mint\u001b[0m\u001b[1;33m(\u001b[0m\u001b[0mb2\u001b[0m\u001b[1;33m,\u001b[0m\u001b[1;36m2\u001b[0m\u001b[1;33m)\u001b[0m\u001b[1;33m)\u001b[0m\u001b[1;33m\u001b[0m\u001b[0m\n\u001b[0;32m      5\u001b[0m \u001b[0mc1\u001b[0m \u001b[1;33m=\u001b[0m \u001b[0mbin\u001b[0m\u001b[1;33m(\u001b[0m\u001b[0mint\u001b[0m\u001b[1;33m(\u001b[0m\u001b[0mc\u001b[0m\u001b[1;33m,\u001b[0m\u001b[1;36m2\u001b[0m\u001b[1;33m)\u001b[0m \u001b[1;33m&\u001b[0m \u001b[0mint\u001b[0m\u001b[1;33m(\u001b[0m\u001b[0mg2\u001b[0m\u001b[1;33m,\u001b[0m\u001b[1;36m2\u001b[0m\u001b[1;33m)\u001b[0m\u001b[1;33m)\u001b[0m\u001b[1;33m\u001b[0m\u001b[0m\n",
      "\u001b[1;31mTypeError\u001b[0m: int() can't convert non-string with explicit base"
     ]
    }
   ],
   "source": [
    "# 获得b1\n",
    "b1 = bin(num & g1)\n",
    "b2 = bin(int(num,2)>>1 & int(g1,2))\n",
    "c = bin(int(b1,2)+int(b2,2))\n",
    "c1 = bin(int(c,2) & int(g2,2))\n",
    "c2 = bin(int(c,2) >> 2 & int(g2,2))\n",
    "e = bin(int(c1,2)+int(c2,2))\n",
    "e1 = bin(int(e,2) & int(g3,2))\n",
    "e2 = bin(int(e,2) >> 4 & int(g3,2))\n",
    "final = int(e1,2)+int(e2,2)"
   ]
  },
  {
   "cell_type": "code",
   "execution_count": null,
   "metadata": {},
   "outputs": [],
   "source": []
  },
  {
   "cell_type": "code",
   "execution_count": null,
   "metadata": {},
   "outputs": [],
   "source": []
  },
  {
   "cell_type": "code",
   "execution_count": null,
   "metadata": {},
   "outputs": [],
   "source": []
  },
  {
   "cell_type": "code",
   "execution_count": null,
   "metadata": {},
   "outputs": [],
   "source": []
  },
  {
   "cell_type": "code",
   "execution_count": null,
   "metadata": {},
   "outputs": [],
   "source": []
  },
  {
   "cell_type": "code",
   "execution_count": null,
   "metadata": {},
   "outputs": [],
   "source": []
  },
  {
   "cell_type": "code",
   "execution_count": null,
   "metadata": {},
   "outputs": [],
   "source": []
  }
 ],
 "metadata": {
  "kernelspec": {
   "display_name": "Python 3",
   "language": "python",
   "name": "python3"
  },
  "language_info": {
   "codemirror_mode": {
    "name": "ipython",
    "version": 3
   },
   "file_extension": ".py",
   "mimetype": "text/x-python",
   "name": "python",
   "nbconvert_exporter": "python",
   "pygments_lexer": "ipython3",
   "version": "3.7.0"
  }
 },
 "nbformat": 4,
 "nbformat_minor": 2
}
