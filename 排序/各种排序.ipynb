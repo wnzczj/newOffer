{
 "cells": [
  {
   "cell_type": "markdown",
   "metadata": {},
   "source": [
    "## 排序算法\n",
    "（1）插入排序：直接插入排序、折半插入排序、希尔排序\n",
    "\n",
    "（2）交换排序：冒泡排序、快速排序\n",
    "\n",
    "（3）选择排序：简单选择排序、堆排序\n",
    "\n",
    "（4）归并排序：2-路归并排序\n",
    "\n",
    "（5）基数排序："
   ]
  },
  {
   "cell_type": "markdown",
   "metadata": {},
   "source": [
    "## 还没完成的排序！！！\n",
    "折半插入排序、希尔排序\n",
    "\n",
    "基数排序"
   ]
  },
  {
   "cell_type": "markdown",
   "metadata": {},
   "source": [
    "#### （1）插入排序：直接插入排序、折半插入排序、希尔排序"
   ]
  },
  {
   "cell_type": "code",
   "execution_count": 3,
   "metadata": {},
   "outputs": [],
   "source": [
    "# 1）直接插入排序\n",
    "def zhiInser(data):\n",
    "    # 选第一个数字组成数组\n",
    "    first = []\n",
    "    first.append(data[0])\n",
    "    for i in range(1,len(data)):\n",
    "        for j in range(len(first)):\n",
    "            if first[j] > data[i]:\n",
    "                first.insert(j,data[i])\n",
    "                break\n",
    "            elif j == len(first)-1:\n",
    "                first.append(data[i])\n",
    "    return first\n",
    "\n",
    "# 2）折半插入排序\n",
    "\n",
    "# 3）希尔排序\n",
    "def xier(data):\n",
    "    # 按照5个进行分开\n",
    "    first_5 = xier_buchang(data,5)\n",
    "    # 进行这5个排序\n",
    "    first_pai_5 = xier_paixu(first_5,5)\n",
    "    # 按照3个进行分开\n",
    "    first_3 = xier_buchang(first_pai_5, 3)\n",
    "    # 进行这3个排序\n",
    "    first_pai_3 = xier_paixu(first_3,3)\n",
    "    # 按照1个进行分开\n",
    "    first_1 = xier_buchang(first_pai_3, 1)\n",
    "    # 进行这1个排序\n",
    "    first_pai_1 = xier_paixu(first_1,1)\n",
    "\n",
    "    return first_pai_1\n",
    "\n",
    "# 希尔步长\n",
    "def xier_buchang(data,n):\n",
    "    # 每分n个保存\n",
    "    third = []\n",
    "    while len(data) > 0:\n",
    "        second = []\n",
    "        first = 0\n",
    "        while first < n and len(data) > 0:\n",
    "            second.append(data.pop(0))\n",
    "            first += 1\n",
    "        third.append(second)\n",
    "    return third\n",
    "\n",
    "def xier_paixu(data,n):\n",
    "    # 对这些进行排序\n",
    "    second_5 = []\n",
    "    for i in range(n):\n",
    "        third = []\n",
    "        for j in data:\n",
    "            if len(j) > 0:\n",
    "                third.append(j.pop(0))\n",
    "        # 对分组内的序列使用直接插入排序\n",
    "        second_5.append(zhiInser(third))\n",
    "    # 对这些进行组合\n",
    "    fourth_5 = []\n",
    "    while len(second_5[0]) > 0:\n",
    "        fifth = []\n",
    "        for j in second_5:\n",
    "            if len(j) > 0:\n",
    "                fifth.append(j.pop(0))\n",
    "        fourth_5 += fifth\n",
    "    return fourth_5"
   ]
  },
  {
   "cell_type": "code",
   "execution_count": 4,
   "metadata": {},
   "outputs": [
    {
     "data": {
      "text/plain": [
       "[1, 2, 3, 4, 6, 7]"
      ]
     },
     "execution_count": 4,
     "metadata": {},
     "output_type": "execute_result"
    }
   ],
   "source": [
    "data = [3,7,4,2,6,1]\n",
    "xier(data)"
   ]
  },
  {
   "cell_type": "markdown",
   "metadata": {},
   "source": [
    "#### （2）交换排序：冒泡排序、快速排序"
   ]
  },
  {
   "cell_type": "code",
   "execution_count": 12,
   "metadata": {},
   "outputs": [],
   "source": [
    "# 1）冒泡排序\n",
    "def maopao(data):\n",
    "    first = len(data) -1\n",
    "    while first > 0:\n",
    "        # 进行一趟排序，只要发现有逆序（即：前面比后面大）就交换\n",
    "        for i in range(first):\n",
    "            if data[i] > data[i+1]:\n",
    "                temp = data[i]\n",
    "                data[i] = data[i+1]\n",
    "                data[i+1] = temp\n",
    "        # 最后的已经排好\n",
    "        first -= 1\n",
    "    return data\n",
    "# 2）快速排序\n",
    "def kuaipai(data):\n",
    "    # 实现第一步：\n",
    "    # 选择第一个\n",
    "    # 所有比它小的放左边，比他大的放右边\n",
    "    # 结束条件：当data只有一个元素的时候\n",
    "    if len(data) <=1 :\n",
    "        return data\n",
    "    # 递归关系\n",
    "    # 选取第一个元素进行快排\n",
    "    first = trans(data,data[0])\n",
    "    # 将first左边部分进行同样的快排\n",
    "    left = kuaipai(data[:data.index(first)])\n",
    "    right = kuaipai(data[data.index(first)+1:])\n",
    "    return left + [first] + right\n",
    "\n",
    "# 快速排序--选择一个，小的左边，大的右边\n",
    "def trans(data,first):\n",
    "    # first = data[0]\n",
    "    second = []\n",
    "    second.append(first)\n",
    "    for i in data[1:]:\n",
    "        # 如果比first小，则头插该元素到list\n",
    "        if i < first:\n",
    "            second.insert(0,i)\n",
    "        # 否则，尾插该元素到list\n",
    "        else:\n",
    "            second.append(i)\n",
    "    for i in range(len(data)):\n",
    "        data[i] = second[i]\n",
    "    return first"
   ]
  },
  {
   "cell_type": "markdown",
   "metadata": {},
   "source": [
    "#### （3）选择排序：简单选择排序、堆排序"
   ]
  },
  {
   "cell_type": "code",
   "execution_count": 10,
   "metadata": {},
   "outputs": [],
   "source": [
    "# 1）简单选择排序\n",
    "def simXuan(data):\n",
    "    # 进行多次查找\n",
    "    third = len(data)-1\n",
    "    while third > 0:\n",
    "        # 进行一趟，选择最大值和最后一个交换\n",
    "        # 找出最大值\n",
    "        first = data[0]\n",
    "        for i in range(third+1):\n",
    "            if data[i] > first:\n",
    "                first = data[i]\n",
    "        # 进行交换\n",
    "        # 最大值对应位置\n",
    "        second = data.index(first)\n",
    "        temp = data[second]\n",
    "        data[second] = data[third]\n",
    "        data[third] = temp\n",
    "        third -= 1\n",
    "    return data\n",
    "\n",
    "# 2）堆排序\n",
    "# 交换函数\n",
    "def jiaohuan(data,i,j):\n",
    "    # 交换data中 i 和 j 位置的两个数\n",
    "    temp = data[i]\n",
    "    data[i] = data[j]\n",
    "    data[j] = temp\n",
    "\n",
    "#（2-1）建立堆\n",
    "def jiandui(data,first):\n",
    "    # 递归结束条件\n",
    "    if 2*first + 1 > len(data)-1:\n",
    "        return\n",
    "    # first 为最后一个非叶子节点\n",
    "    # 从first依次往前\n",
    "    while first >=0 :\n",
    "        # 对该节点进行排序，比较其和两个叶子节点的大小，\n",
    "        # 找到两个叶子节点的序号\n",
    "        c1 = 2*first + 1\n",
    "        c2 = 2*first + 2\n",
    "        # 比较这个小子树中，跟节点和两个叶子节点的大小\n",
    "        max_i = first\n",
    "        # 要保证 c1，c2都在data内\n",
    "        if c1 < len(data) and data[c1] > data[max_i]:\n",
    "            max_i = c1\n",
    "        if c2 < len(data) and data[c2] > data[max_i]:\n",
    "            max_i = c2\n",
    "        # 如果叶子节点不是最大，则进行交换\n",
    "        if max_i != first:\n",
    "            jiaohuan(data,first,max_i)\n",
    "            # 再进行一步递归\n",
    "            # 对交换完的这个节点，再进行一次排序\n",
    "            jiandui(data,max_i)\n",
    "        # 进行first前面一个非叶子节点交换\n",
    "        first -= 1\n",
    "    return data\n",
    "\n",
    "#（2-2）堆排序\n",
    "def paiXuDui(data):\n",
    "    # 保存最后结果\n",
    "    fourth = []\n",
    "    while len(data) > 0:\n",
    "        # 依次拿走堆顶元素\n",
    "        first = data.pop(0)\n",
    "        fourth.append(first)\n",
    "        # 添加 if 判断条件，是为了解决当data只剩下一个元素时\n",
    "        # 上面：first = data.pop(0)，已经拿走了该元素，此时停止即可，不需要再进行下面操作\n",
    "        if len(data) > 0:\n",
    "            # 将堆的最后一个叶子节点补到根节点\n",
    "            second = data.pop()\n",
    "            data.insert(0,second)\n",
    "            # 重新建立堆\n",
    "            # 获取最后一个非叶子节点\n",
    "            third = int((len(data)-2)/2)\n",
    "            jiandui(data,third)\n",
    "    return list(reversed(fourth))"
   ]
  },
  {
   "cell_type": "code",
   "execution_count": 11,
   "metadata": {},
   "outputs": [
    {
     "name": "stdout",
     "output_type": "stream",
     "text": [
      "[1, 2, 3, 4, 5, 7, 10]\n"
     ]
    }
   ],
   "source": [
    "# 测试堆排序\n",
    "data = [4,10,3,5,1,2,7]\n",
    "# 找到最后一个非叶子节点\n",
    "first = int((len(data)-2)/2)\n",
    "# 先建立一个堆\n",
    "dui = jiandui(data,first)\n",
    "# 堆排序\n",
    "result = paiXuDui(dui)\n",
    "print(result)"
   ]
  },
  {
   "cell_type": "markdown",
   "metadata": {},
   "source": [
    "#### （4）归并排序：2-路归并排序"
   ]
  },
  {
   "cell_type": "code",
   "execution_count": 12,
   "metadata": {},
   "outputs": [],
   "source": [
    "# 归并排序\n",
    "def hebing(list_left,list_right):\n",
    "    # 生成新数组\n",
    "    first = []\n",
    "    # 两个指针\n",
    "    l = 0\n",
    "    r = 0\n",
    "    while(l<len(list_left) and r<len(list_right)):\n",
    "        if list_left[l] < list_right[r]:\n",
    "            first.append(list_left[l])\n",
    "            l += 1\n",
    "        else:\n",
    "            first.append(list_right[r])\n",
    "            r += 1\n",
    "    # 把两个数组剩下的部分添加进来\n",
    "    if l < len(list_left):\n",
    "        first += list_left[l:]\n",
    "    if r < len(list_right):\n",
    "        first += list_right[r:]\n",
    "    return first\n",
    "\n",
    "def fenzhi(data):\n",
    "    # 采用递归思想，一直分割data到左右只剩下一个元素\n",
    "    if len(data) <= 1:\n",
    "        return data\n",
    "    # 递归思想\n",
    "    left = fenzhi(data[:int(len(data)/2)])\n",
    "    right = fenzhi(data[int(len(data)/2):])\n",
    "    # 合并\n",
    "    return hebing(left,right)"
   ]
  },
  {
   "cell_type": "code",
   "execution_count": 13,
   "metadata": {},
   "outputs": [
    {
     "name": "stdout",
     "output_type": "stream",
     "text": [
      "[2, 4, 5, 7, 8, 9, 10, 11]\n"
     ]
    }
   ],
   "source": [
    "# 测试归并排序\n",
    "data = [2,4,9,10,8,5,11,7]\n",
    "result = fenzhi(data)\n",
    "print(result)"
   ]
  },
  {
   "cell_type": "markdown",
   "metadata": {},
   "source": [
    "#### （5）基数排序"
   ]
  },
  {
   "cell_type": "code",
   "execution_count": null,
   "metadata": {},
   "outputs": [],
   "source": []
  },
  {
   "cell_type": "code",
   "execution_count": null,
   "metadata": {},
   "outputs": [],
   "source": []
  },
  {
   "cell_type": "code",
   "execution_count": null,
   "metadata": {},
   "outputs": [],
   "source": []
  },
  {
   "cell_type": "code",
   "execution_count": null,
   "metadata": {},
   "outputs": [],
   "source": []
  },
  {
   "cell_type": "code",
   "execution_count": null,
   "metadata": {},
   "outputs": [],
   "source": []
  },
  {
   "cell_type": "code",
   "execution_count": null,
   "metadata": {},
   "outputs": [],
   "source": []
  }
 ],
 "metadata": {
  "kernelspec": {
   "display_name": "Python 3",
   "language": "python",
   "name": "python3"
  },
  "language_info": {
   "codemirror_mode": {
    "name": "ipython",
    "version": 3
   },
   "file_extension": ".py",
   "mimetype": "text/x-python",
   "name": "python",
   "nbconvert_exporter": "python",
   "pygments_lexer": "ipython3",
   "version": "3.7.0"
  }
 },
 "nbformat": 4,
 "nbformat_minor": 2
}
