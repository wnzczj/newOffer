{
 "cells": [
  {
   "cell_type": "markdown",
   "metadata": {},
   "source": [
    "## 动态规划\n",
    "#### （1）思路：\n",
    "分成两种情况，包含该项+不包含该项\n",
    "#### （2）结题方法：\n",
    "1）递归\n",
    "\n",
    "2）循环遍历：本质上保存递归的中间过程"
   ]
  },
  {
   "cell_type": "code",
   "execution_count": 18,
   "metadata": {},
   "outputs": [],
   "source": [
    "\"\"\"\n",
    "基础题型1：斐波那契数列\n",
    "题目：1,1,2,3,5,8,...,后面一项是前两项的和，求第 k 项是多少？\n",
    "解题思路：\n",
    "（1）递归：\n",
    "1）结束条件：f（1）= 1 ，f（2）=1\n",
    "2）循环条件：f（n）= f（n-1）+ f（n-2）\n",
    "（2）循环遍历：\n",
    "1）建立数组：final = []\n",
    "2）循环生成数组：final[0] = 1 , final[1] = 1 , final[2] = final[0] + final[1],...\n",
    "\"\"\"\n",
    "# 递归方法\n",
    "def feibo_digui2(k):\n",
    "    return feibo_digui(k-1)\n",
    "\n",
    "def feibo_digui(k):\n",
    "    if k <= 1:\n",
    "        return 1\n",
    "    return feibo_digui(k-1) + feibo_digui(k-2)\n",
    "\n",
    "# 循环生成方法\n",
    "def feibo_xun(k):\n",
    "    first = [1,1]\n",
    "    for i in range(2,10):\n",
    "        second = first[i-1] + first[i-2]\n",
    "        first.append(second)\n",
    "    return first[k-1]"
   ]
  },
  {
   "cell_type": "code",
   "execution_count": 20,
   "metadata": {},
   "outputs": [
    {
     "name": "stdout",
     "output_type": "stream",
     "text": [
      "21\n",
      "21\n"
     ]
    }
   ],
   "source": [
    "# 测试斐波那契数列\n",
    "print(feibo_digui2(8))\n",
    "print(feibo_xun(8))"
   ]
  },
  {
   "cell_type": "code",
   "execution_count": 1,
   "metadata": {},
   "outputs": [],
   "source": [
    "\"\"\"\n",
    "基础题型2：数组选取数，组成和最大\n",
    "问题描述：给定一个数列，从其中选取一系列数字，使其总和最大；\n",
    "          要求：选取的数字不能相邻。\n",
    "例子：exa_list：[1,2,4,1,7,8,3] 则，一种选取方式：[2,1,8],和为：11；另一种[1,4,7,3],和为：15，则显然比第一种好\n",
    "解题思路：\n",
    "（1）递归方式求解：\n",
    "1）制定优化函数：opt（exa_list[0:]）\n",
    "2）确定递归公式：（0,1模型，即：选与不选）\n",
    "分析：以上面exa_list：[1,2,4,1,7,8,3] 为例，从第一个数开始分析\n",
    "第一种：选取exa_list[0]，则：opt（exa_list[0:]） = exa_list[0] + opt（exa_list[2:]）\n",
    "第二种：不选取exa_list[0]，则：opt（exa_list[0:]）= opt（exa_list[1:]）\n",
    "3）递归结束条件：\n",
    "第一：opt（exa_list[i:]），其中exa_list[i:] 为 空list[]\n",
    "\n",
    "（2）循环生成递归中间数据：\n",
    "1）根据 exa_list 生成每个位置对应 最大值 结果，即：\n",
    "index      0   1   2   3   4   5   6 \n",
    "exa_list   1   2   4   1   7   8   3\n",
    "final_sum  1   2   5   5   ...\n",
    "2）查看final_sum 的生成方式：\n",
    "exa_list，从左向右依次增加数据，则：\n",
    "exa_list：[1] ===> final_sum = 1\n",
    "exa_list：[1,2] ===> final_sum = max(exa_list[0],exa_list[1])\n",
    "exa_list：[1,2,4] ===> final_sum ，此时分两种情况：\n",
    "          第一种：选新增加数字 4 ，则 opt（[1,2,4]）= 4 + opt（[1]）\n",
    "          第二种：不选新增数字 4 ，则 opt（[1,2,4]）= opt（[1,2]）\n",
    "...\n",
    "\"\"\"\n",
    "# 递归求解\n",
    "def opt_digui(data):\n",
    "    if len(data) <= 0:\n",
    "        return 0\n",
    "    # 递归公式\n",
    "    # 设定数字\n",
    "    i = 0\n",
    "    # 第一种：选这个数字\n",
    "    A = data[i] + opt_digui(data[i+2:])\n",
    "    # 第二种：不选这个数字\n",
    "    B = opt_digui(data[i+1:])\n",
    "    return max(A,B)\n",
    "\n",
    "# 循环求解\n",
    "def opt_xun(data):\n",
    "    # 创建数列\n",
    "    final_sum = []\n",
    "    final_sum.append(data[0])\n",
    "    final_sum.append(max(data[0],data[1]))\n",
    "    # 开始遍历\n",
    "    for i in range(2,len(data)):\n",
    "        # 第一种：选择这个数字\n",
    "        A = data[i] + final_sum[i-2]\n",
    "        # 第二种：不选这个数字\n",
    "        B = final_sum[i-1]\n",
    "        final_sum.append(max(A,B))\n",
    "    return final_sum[-1]"
   ]
  },
  {
   "cell_type": "code",
   "execution_count": 4,
   "metadata": {},
   "outputs": [
    {
     "name": "stdout",
     "output_type": "stream",
     "text": [
      "15\n",
      "15\n"
     ]
    }
   ],
   "source": [
    "data = [1,2,4,1,7,8,3]\n",
    "print(opt_xun(data))\n",
    "print(opt_digui(data))"
   ]
  },
  {
   "cell_type": "code",
   "execution_count": 12,
   "metadata": {},
   "outputs": [],
   "source": [
    "\"\"\"\n",
    "基础题型3：给定数组，选数和为给定值\n",
    "问题描述：给定数组data：[3,34,4,12,5,2]，从里面选出一系列数\n",
    "          要求：这一系列数之和为给定值S，判断是否存在这样的一系列数\n",
    "例子：data：[3,34,4,12,5,2]，S：9\n",
    "      则，存在[4,5]，其和为 9 \n",
    "解题思路：\n",
    "（1）递归求解：\n",
    "1）优化函数：opt（data[i:],S）\n",
    "2）递归公式：\n",
    "第一种：选择data[i]，则：opt（data[i:],S）= data[i] + opt（data[i+1:],S-data[i]）\n",
    "第二种：不选data[i]，则：opt（data[i:],S）= opt（data[i+1:],S）\n",
    "3）结束条件：\n",
    "第一种：data[i:] 为空：[]\n",
    "第二种：S = 0\n",
    "第三种：data[i] > S\n",
    "\n",
    "（2）循环求递归中间值：\n",
    "    index   0   1   2   3   4   5\n",
    "    data    3   34  4   12  5   2\n",
    "S       0   F   F   F   F   F   F\n",
    "        1   F   F   F   F   F   F\n",
    "        2   F   F   F   F   F   T\n",
    "        3   T   ...\n",
    "        4   ...\n",
    "        5\n",
    "        6\n",
    "        7   ...\n",
    "        8\n",
    "        9  F   F   F   F   T   T\n",
    "\"\"\"\n",
    "import numpy as np\n",
    "\n",
    "def find_digui(data,S):\n",
    "    # 结束条件：\n",
    "    if S == 0:\n",
    "        return True\n",
    "    if len(data) ==1 :\n",
    "        return data[0] == S\n",
    "    # 递归条件：\n",
    "    i = 0\n",
    "    # 第一种情况：选data[i]\n",
    "    A = find_digui(data[i+1:],S-data[i])\n",
    "    # 第二种情况：不选data[i]\n",
    "    B = find_digui(data[i+1:],S)\n",
    "    return A or B\n",
    "\n",
    "def find_xun(data,S):\n",
    "    # 创建二维数组\n",
    "    final = np.zeros((S+1,len(data)),bool)\n",
    "    # 获取final的行数和列数\n",
    "    hang,lie = final.shape\n",
    "    # 创建起始值\n",
    "    # 当data只有一个数字时，即二维数组第一列，\n",
    "    # 只有 S == data[0] 的时候为True，其他均为 False\n",
    "    for i in range(hang):\n",
    "        if data[0] == i:\n",
    "            final[i][0] = True\n",
    "    # 二维数组final第一行，所有值均为 True\n",
    "    for i in range(lie):\n",
    "        final[0][i] = True\n",
    "    # 根据递归公式创建接下的值\n",
    "    for i in range(1,lie):\n",
    "        for j in range(1,hang):\n",
    "            # 从第2列，第2行，开始，即data包含2个数\n",
    "            # 分两种情况，判断是否存在数，使其和为S\n",
    "            # 第一种情况：选择data的新增的第2个数\n",
    "            # 则：final[i][1] = fina[(i-data[1])][0]\n",
    "            A = False\n",
    "            if j-data[i] >= 0:\n",
    "                A = final[j-data[i]][i-1]\n",
    "            # 第二种情况：不选择data的新增的第2个数\n",
    "            # 则：final[i][1] = final[i][0]\n",
    "            B = final[j][i-1]\n",
    "            final[j][i] = A or B\n",
    "    return final[-1][-1]"
   ]
  },
  {
   "cell_type": "code",
   "execution_count": 13,
   "metadata": {},
   "outputs": [
    {
     "name": "stdout",
     "output_type": "stream",
     "text": [
      "True\n",
      "True\n"
     ]
    }
   ],
   "source": [
    "data = [3,34,4,12,5,2]\n",
    "S = 9\n",
    "print(find_digui(data,S))\n",
    "print(find_xun(data,S))"
   ]
  },
  {
   "cell_type": "markdown",
   "metadata": {},
   "source": [
    "## 微信公众号：labuladong的思想解动态规划"
   ]
  },
  {
   "cell_type": "code",
   "execution_count": 1,
   "metadata": {},
   "outputs": [],
   "source": [
    "\"\"\"\n",
    "题目1：斐波那契数列再探索--递归方法--添加备忘录\n",
    "       从而避免产生重复计算\n",
    "解题：\n",
    "建立备忘录，当递归时，需要的状态值在备忘录里有，则直接调用即可，否则，重新生成。\n",
    "动态规划使用递归方法解答时，学着去画--递归树\n",
    "\"\"\"\n",
    "import time\n",
    "\n",
    "# 1）不使用备忘录\n",
    "def feibo(k):\n",
    "    # 编写结束条件\n",
    "    if k <= 1:\n",
    "        return 1\n",
    "    # 计算f（n-1）\n",
    "    f_k_1 = feibo(k-1)\n",
    "    # 计算f（n-2）\n",
    "    f_k_2 = feibo(k - 2)\n",
    "    # 汇总\n",
    "    f_k = f_k_1+f_k_2\n",
    "    return f_k\n",
    "\n",
    "# 2）使用备忘录\n",
    "def feibo_beiwanglu(k):\n",
    "    # 编写结束条件\n",
    "    if k <= 1:\n",
    "        return 1\n",
    "    # 计算f（n-1）\n",
    "    # 如果在备忘录中已经有值，则直接在里面取即可\n",
    "    if k-1 in beiwang.keys():\n",
    "        f_k_1 = beiwang[k-1]\n",
    "    else:\n",
    "        f_k_1 = feibo_beiwanglu(k - 1)\n",
    "    beiwang[k-1] = f_k_1\n",
    "    # 计算f（n-2）\n",
    "    if k-2 in beiwang.keys():\n",
    "        f_k_2 = beiwang[k-2]\n",
    "    else:\n",
    "        f_k_2 = feibo_beiwanglu(k - 2)\n",
    "    beiwang[k-2] = f_k_2\n",
    "    # 汇总\n",
    "    f_k = f_k_1+f_k_2\n",
    "    return f_k\n",
    "\n",
    "# 3）使用dp数组来保存结果，这个在最上面方法：def feibo_xun(k) 已经实现，此处不再赘述"
   ]
  },
  {
   "cell_type": "code",
   "execution_count": 2,
   "metadata": {},
   "outputs": [
    {
     "name": "stderr",
     "output_type": "stream",
     "text": [
      "E:\\Anaconda3\\lib\\site-packages\\ipykernel_launcher.py:3: DeprecationWarning: time.clock has been deprecated in Python 3.3 and will be removed from Python 3.8: use time.perf_counter or time.process_time instead\n",
      "  This is separate from the ipykernel package so we can avoid doing imports until\n"
     ]
    },
    {
     "name": "stdout",
     "output_type": "stream",
     "text": [
      "[1, 1, 2, 3, 5, 8, 13, 21, 34, 55, 89, 144, 233, 377, 610, 987, 1597, 2584, 4181, 6765, 10946, 17711, 28657, 46368, 75025, 121393, 196418, 317811, 514229, 832040]\n",
      "2.9288801289999356\n"
     ]
    },
    {
     "name": "stderr",
     "output_type": "stream",
     "text": [
      "E:\\Anaconda3\\lib\\site-packages\\ipykernel_launcher.py:8: DeprecationWarning: time.clock has been deprecated in Python 3.3 and will be removed from Python 3.8: use time.perf_counter or time.process_time instead\n",
      "  \n"
     ]
    }
   ],
   "source": [
    "# 使用测试用例，查看两种不同方法的计算时间\n",
    "# 1）不使用备忘录\n",
    "start = time.clock()\n",
    "beiwang = {}\n",
    "first = []\n",
    "for i in range(30):\n",
    "    first.append(feibo(i))\n",
    "end = time.clock()\n",
    "print(first)\n",
    "# print(beiwang)\n",
    "print(end-start)"
   ]
  },
  {
   "cell_type": "code",
   "execution_count": 3,
   "metadata": {},
   "outputs": [
    {
     "name": "stdout",
     "output_type": "stream",
     "text": [
      "[1, 1, 2, 3, 5, 8, 13, 21, 34, 55, 89, 144, 233, 377, 610, 987, 1597, 2584, 4181, 6765, 10946, 17711, 28657, 46368, 75025, 121393, 196418, 317811, 514229, 832040]\n",
      "0.0015324470000450674\n"
     ]
    },
    {
     "name": "stderr",
     "output_type": "stream",
     "text": [
      "E:\\Anaconda3\\lib\\site-packages\\ipykernel_launcher.py:2: DeprecationWarning: time.clock has been deprecated in Python 3.3 and will be removed from Python 3.8: use time.perf_counter or time.process_time instead\n",
      "  \n",
      "E:\\Anaconda3\\lib\\site-packages\\ipykernel_launcher.py:7: DeprecationWarning: time.clock has been deprecated in Python 3.3 and will be removed from Python 3.8: use time.perf_counter or time.process_time instead\n",
      "  import sys\n"
     ]
    }
   ],
   "source": [
    "# 2）使用备忘录\n",
    "start = time.clock()\n",
    "beiwang = {}\n",
    "first = []\n",
    "for i in range(30):\n",
    "    first.append(feibo_beiwanglu(i))\n",
    "end = time.clock()\n",
    "print(first)\n",
    "# print(beiwang)\n",
    "print(end-start)"
   ]
  },
  {
   "cell_type": "markdown",
   "metadata": {},
   "source": [
    "#### 使用备忘录与否，对最后的结果时间影响很大\n",
    "1）不使用备忘录：2.9288801289999356\n",
    "\n",
    "2）使用备忘录：0.0015324470000450674"
   ]
  },
  {
   "cell_type": "code",
   "execution_count": 10,
   "metadata": {},
   "outputs": [],
   "source": [
    "\"\"\"\n",
    "题目2：凑零钱问题\n",
    "问题描述：给你k种面值的硬币，面值分别为 1,2,5；\n",
    "          每种硬币的数量无限，再给一个总金额amount；\n",
    "          问你最少需要几枚硬币凑出这个金额，如果不可能凑出，算法返回 -1 。\n",
    "解题思路：根据labuladong的思路\n",
    "（1）确定状态 n1，n2，n3...：即原问题中，变化的量。\n",
    "               此问题，包括两个量：1）硬币面值 2）总金额amount\n",
    "               1）硬币面值\n",
    "               注意，此处 1）硬币面值，因为无论怎么选取，硬币面值还是那样，\n",
    "                   不会存在选完一次，某个面值的硬币就不能使用。\n",
    "                   例如，第一次选择面值 1 硬币，下一次就不能使用面值 1 硬币，这种情况不存在。\n",
    "                   所以，此处 1）硬币面值不能作为状态。\n",
    "                   但是，如果把题目改一下，各种面值硬币分别只有两个，\n",
    "                   如果第一次选了面值 1 硬币，那么面值 1 硬币就还只剩下 1 个。那么这样的话，硬币面值就是一个状态。\n",
    "                2）总金额amount\n",
    "                如果第一次选了某个面值硬币，如面值 1 硬币，下一次再选时，总金额就变为 amount-1\n",
    "                总金额在变化，所以 2）总金额amount是状态\n",
    "     总之，状态只有一个，n 为：总金额amount\n",
    "（2）确定dp（n1，n2，n3...）函数的定义：\n",
    "    由（1）得：dp 取 dp（n）其中，n 为总金额amount。\n",
    "    dp（n）含义：当总金额amount的值为 n 时，最少需要的硬币数目\n",
    "（3）确定选择：对于每个状态，可以做出什么选择改变当前状态。\n",
    "    由（1）知，要想改变状态 n （即：总金额数目），\n",
    "    可以做出的选择为：选择硬币 1,2,5 中的一种硬币来改变，状态 n 的值，变为 n-1 或 n-2 或 n-5\n",
    "（4）编写转移函数：也即递推公式\n",
    "    由（3）可知，根据不同选择，确定dp（n）\n",
    "    即：dp（n）= min（dp（n-1）,dp（n-2）,dp（n-5））\n",
    "（5）确定 base case：也即递推结束条件\n",
    "    当 n = 0，即总金额为 0 时，需要硬币数目为 0 \n",
    "    当 n < 0，即总金额小于 0 时，则无解，返回 100\n",
    "        注意：之所以返回100，就是想返回一个较大的数，表示递归的这条路走不通\n",
    "    当 n = 1，即总金额为 1 时，需要硬币数目为 1 ，即直接选硬币1\n",
    "    当 n = 2，即总金额为 2 时，需要硬币数目为 1 ，即直接选硬币2\n",
    "    当 n = 5，即总金额为 5 时，需要硬币数目为 1 ，即直接选硬币5\n",
    "\"\"\"\n",
    "def lingqian(n):\n",
    "    # 编写递归结束条件\n",
    "    if n == 0:\n",
    "        return 0\n",
    "    if n <= 0:\n",
    "        return 100\n",
    "    if n == 1:\n",
    "        return 1\n",
    "    if n == 2:\n",
    "        return 1\n",
    "    if n == 5:\n",
    "        return 1\n",
    "    # 编写状态转移公式\n",
    "    # 如果选硬币 1\n",
    "    f_1 = 1 + lingqian(n-1)\n",
    "    # 如果选硬币 2\n",
    "    f_2 = 1 + lingqian(n - 2)\n",
    "    # 如果选硬币 5\n",
    "    f_5 = 1 + lingqian(n - 5)\n",
    "    # 结果\n",
    "    f = min(f_1,f_2,f_5)\n",
    "    return f\n",
    "\n",
    "\"\"\"\n",
    "因为递归计算，里面包含很多重复计算，所以使用其他方法优化，则，\n",
    "目前有两种：1）在递归基础上，使用备忘录 2）使用dp[n]数组，自底向上计算\n",
    "\"\"\"\n",
    "\"\"\"\n",
    "1）在递归基础上，使用备忘录\n",
    "思路：使用备忘录保存递归中间结果，如果备忘录中已经有中间结果，则直接调用，无需重新递归计算\n",
    "\"\"\"\n",
    "# 使用备忘录\n",
    "def lingqian_beiwang(n):\n",
    "    # 编写递归结束条件\n",
    "    if n == 0:\n",
    "        return 0\n",
    "    if n <= 0:\n",
    "        return 100\n",
    "    if n == 1:\n",
    "        return 1\n",
    "    if n == 2:\n",
    "        return 1\n",
    "    if n == 5:\n",
    "        return 1\n",
    "    # 编写状态转移公式\n",
    "    # 如果选硬币 1\n",
    "    # 判断是否已经在备忘录中\n",
    "    if n-1 in beiwang_ling.keys():\n",
    "        f_1 = beiwang_ling[n-1]\n",
    "    else:\n",
    "        f_1 = 1 + lingqian(n-1)\n",
    "    beiwang_ling[n-1] = f_1\n",
    "    # 如果选硬币 2\n",
    "    if n - 2 in beiwang_ling.keys():\n",
    "        f_2 = beiwang_ling[n - 2]\n",
    "    else:\n",
    "        f_2 = 1 + lingqian(n - 2)\n",
    "    beiwang_ling[n-2] = f_2\n",
    "    # 如果选硬币 5\n",
    "    if n - 5 in beiwang_ling.keys():\n",
    "        f_5 = beiwang_ling[n - 5]\n",
    "    else:\n",
    "        f_5 = 1 + lingqian(n - 5)\n",
    "    beiwang_ling[n-5] = f_5\n",
    "    # 结果\n",
    "    f = min(f_1,f_2,f_5)\n",
    "    return f\n",
    "\n",
    "\"\"\"\n",
    "2）使用循环方式生成dp[n]数组\n",
    "思路：\n",
    "    （1）首先确定dp[n]数组的维度：维度数目等于状态数目，此题只有一个状态amount，所以维度为1，即1维数组\n",
    "    （2）确定dp[n]数组的起始元素：也即递归的结束条件：dp[0] = 0,dp[1] = 1,dp[2] = 1,dp[5] = 1\n",
    "    （3）确定转移公式，也即递归公式：dp[n] = min（dp[n-1],dp[n-2],dp[n-5]）\n",
    "    注意：此处为了生成方便，补上 dp[3] = 2,dp[4] = 2,则数组生成，从dp[6]开始生成即可\n",
    "\"\"\"\n",
    "def lingqian_shuzu(n):\n",
    "    first = []\n",
    "    # 初始化first\n",
    "    for i in range(n):\n",
    "        first.append(0)\n",
    "    # 定义起始值\n",
    "    first[0] = 0\n",
    "    first[1] = 1\n",
    "    first[2] = 1\n",
    "    first[3] = 2\n",
    "    first[4] = 2\n",
    "    first[5] = 1\n",
    "    # 定义\n",
    "    for i in range(6,n):\n",
    "        first[i] = 1 + min(first[i-1],first[i-2],first[i-5])\n",
    "    return first"
   ]
  },
  {
   "cell_type": "code",
   "execution_count": 11,
   "metadata": {},
   "outputs": [
    {
     "name": "stdout",
     "output_type": "stream",
     "text": [
      "[0, 1, 1, 2, 2, 1, 2, 2, 3, 3, 2]\n"
     ]
    }
   ],
   "source": [
    "# 测试零钱--没有使用备忘录和dp[n]数组\n",
    "# amount = 11\n",
    "# result = {}\n",
    "# for i in range(amount):\n",
    "#     result[i] = lingqian(i)\n",
    "# print(result)\n",
    "# # 测试零钱--使用备忘录\n",
    "# beiwang_ling = {}\n",
    "# amount = 11\n",
    "# result = {}\n",
    "# for i in range(amount):\n",
    "#     result[i] = lingqian_beiwang(i)\n",
    "# print(result)\n",
    "# 测试使用dp[n]数组\n",
    "amount = 11\n",
    "result = lingqian_shuzu(amount)\n",
    "print(result)"
   ]
  },
  {
   "cell_type": "code",
   "execution_count": 4,
   "metadata": {},
   "outputs": [],
   "source": [
    "\"\"\"\n",
    "题目3:0-1背包问题\n",
    "问题描述：\n",
    "给你一个可装载重量为W的背包和N个物品，每个物品有重量和价值两个属性。\n",
    "其中第i个物品的重量为wt[i]，价值为val[i]，现在让你用这个背包装物品，最多能装的价值是多少？\n",
    "\n",
    "举个简单的例子，输入如下：\n",
    "N = 3, W = 4\n",
    "wt = [2, 1, 3]\n",
    "val = [4, 2, 3]\n",
    "算法返回 6，选择前两件物品装进背包，总重量 3 小于W，可以获得最大价值 6。\n",
    "\n",
    "解题思路：\n",
    "（1）确定状态：原题中两个会改变的量：N,W，所以状态有两个：还剩下的物品：N，当前背包可装重量：W\n",
    "（2）确定dp(n1,n2,...)：dp(i,j)：含义，在当前还剩下的 i 件物品，而且当前背包可装 j 重量的情况下，可获得的最大价值\n",
    "    注意：i 是一个dic，即：包含wt = [2, 1, 3]，val = [4, 2, 3]的dic\n",
    "（3）确定选择，改变状态：以开始时为例，有 3 件物品，则对应 3 种选择，每个选择都会对应一个新的状态，即改变状态。\n",
    "（4）确定转移/递归关系：d(i,j) =  max((当前物品的价值+dp(i-1,j-n1)),(当前物品的价值+dp(i-1,j-n2)),...) \n",
    "    其中：n1位 i 中第一件物品的重量\n",
    "（5）结束条件：\n",
    "    1）当 N =1 and W - 剩下这件物品的重量 >=0 ，即：物品只剩一件，而且带着这件物品，也不超重，则返回这件物品的价值\n",
    "    2）当 N =1 and W - 剩下这件物品的重量 <0，即当只剩下一件物品时，而且该物品的重量超过背包能承受的重量则，返回价值0\n",
    "        例如：对于情况dic:{4:3} W = 3，则此时只剩下一件物品，但能承受的重量为 3 < 4，则不能选择，只能价值为0\n",
    "\"\"\"\n",
    "def beibao_0_1(dic,w):\n",
    "    if len(dic.keys()) == 1 and w - list(dic.keys())[0] >= 0:\n",
    "        return dic[list(dic.keys())[0]]\n",
    "    if len(dic.keys()) == 1 and w - list(dic.keys())[0] < 0:\n",
    "        return 0\n",
    "    # 递归条件\n",
    "    # 分为两种情况：选择第一个物品和不选择第一个物品\n",
    "    # 第一种：选择第一个：\n",
    "    first_1 = list(dic.keys())[0]\n",
    "    second_1 = {}\n",
    "    for i in dic.keys():\n",
    "        if i != first_1:\n",
    "            second_1[i] = dic[i]\n",
    "    # 注意：选择第一个物品的前提，是该物品的重量 < 此处背包能容纳的重量\n",
    "    if first_1 < w:\n",
    "        f_1 = dic[first_1] + beibao_0_1(second_1,w-first_1)\n",
    "    else:\n",
    "        f_1 = 0\n",
    "    # 第二种情况：不选择第一个物品：\n",
    "    f_2 = beibao_0_1(second_1,w)\n",
    "\n",
    "    # 最终结果\n",
    "    f = max(f_1,f_2)\n",
    "\n",
    "    return f"
   ]
  },
  {
   "cell_type": "code",
   "execution_count": 3,
   "metadata": {},
   "outputs": [
    {
     "name": "stdout",
     "output_type": "stream",
     "text": [
      "6\n"
     ]
    }
   ],
   "source": [
    "\"\"\"\n",
    "注意一种情况：dic = {2:3,2:6,3:4}\n",
    "即：存在两种物品，重量相同，价值不同，这个时候dic就需要不能用dic词典保存，\n",
    "    可以用list，此处暂时没有解决这个问题！！！\n",
    "\"\"\"\n",
    "dic = {2:4,1:2,3:3}\n",
    "w = 4\n",
    "result = beibao_0_1(dic,w)\n",
    "print(result)"
   ]
  },
  {
   "cell_type": "code",
   "execution_count": null,
   "metadata": {},
   "outputs": [],
   "source": [
    "\"\"\"\n",
    "题目4：0-1背包问题的变体\n",
    "\n",
    "题目描述：给定一个只包含正整数的非空数组。是否可以将这个数组分割成两个子集，使得两个子集的元素和相等。\n",
    "注意:\n",
    "每个数组中的元素不会超过 100\n",
    "数组的大小不会超过 200\n",
    "示例 1:\n",
    "输入: [1, 5, 11, 5]\n",
    "输出: true\n",
    "解释: 数组可以分割成 [1, 5, 5] 和 [11].\n",
    "\n",
    "解题思路：此题可以改变一下思考方式，就可以变成背包问题\n",
    "问题改变：问list中是否存在一个真子集list，使sum(真子集list) = sum(list)/2\n",
    "（1）状态：list中剩下的数，此时和sum(lis，状态有两个\n",
    "（2）dp：dp(1,j)：当此时list有 j 个数时，是否存在一个真子集，使其和为 j\n",
    "（3）选择：第一个元素在真子集内，和不在真子集内\n",
    "（4）转移/递归关系：分为两种情况，选择第一个元素和不选第一个元素\n",
    "    1）选择第一个元素：dp(i,j) = dp(i-1,j-第一个元素)\n",
    "    2）不选第一个元素：dp(i,j) = dp(i-1,j)\n",
    "（5）结束条件：\n",
    "    1）当list只有一个元素，但此时的和 ！= 0 ，即：已经真子集只能包含这么多元素了，但是和还没有到的要求 = sum(最初list)/2\n",
    "      则，返回False\n",
    "    2）反之，当list只有一个元素，但此时的和 == 0 ，则返回True\n",
    "\"\"\""
   ]
  },
  {
   "cell_type": "code",
   "execution_count": 8,
   "metadata": {},
   "outputs": [],
   "source": [
    "data = [2, 5, 11, 5]"
   ]
  },
  {
   "cell_type": "code",
   "execution_count": 11,
   "metadata": {},
   "outputs": [
    {
     "data": {
      "text/plain": [
       "True"
      ]
     },
     "execution_count": 11,
     "metadata": {},
     "output_type": "execute_result"
    }
   ],
   "source": [
    "sum(data)/2 > int(sum(data)/2)"
   ]
  },
  {
   "cell_type": "code",
   "execution_count": 12,
   "metadata": {},
   "outputs": [],
   "source": [
    "def canPartition( nums):\n",
    "    mid = sum(nums)/2\n",
    "    # 如果nums本身的和就是奇数，则直接不可分\n",
    "    if mid > int(mid):\n",
    "        return False\n",
    "    # first = self.shiji(nums,mid)\n",
    "    return True"
   ]
  },
  {
   "cell_type": "code",
   "execution_count": 13,
   "metadata": {},
   "outputs": [
    {
     "data": {
      "text/plain": [
       "False"
      ]
     },
     "execution_count": 13,
     "metadata": {},
     "output_type": "execute_result"
    }
   ],
   "source": [
    "canPartition([1,2,3,5])"
   ]
  },
  {
   "cell_type": "code",
   "execution_count": null,
   "metadata": {},
   "outputs": [],
   "source": []
  },
  {
   "cell_type": "code",
   "execution_count": 3,
   "metadata": {},
   "outputs": [],
   "source": [
    "data = [[1,2,3,4],\n",
    "            [5,6,7,8],\n",
    "            [9,10,11,12],\n",
    "            [13,14,15,16]]"
   ]
  },
  {
   "cell_type": "code",
   "execution_count": 4,
   "metadata": {},
   "outputs": [
    {
     "data": {
      "text/plain": [
       "[1, 2, 3, 4]"
      ]
     },
     "execution_count": 4,
     "metadata": {},
     "output_type": "execute_result"
    }
   ],
   "source": [
    "data.pop(0)"
   ]
  },
  {
   "cell_type": "code",
   "execution_count": 6,
   "metadata": {},
   "outputs": [],
   "source": [
    "f = data.pop(0)"
   ]
  },
  {
   "cell_type": "code",
   "execution_count": 7,
   "metadata": {},
   "outputs": [
    {
     "data": {
      "text/plain": [
       "[5, 6, 7, 8]"
      ]
     },
     "execution_count": 7,
     "metadata": {},
     "output_type": "execute_result"
    }
   ],
   "source": [
    "f"
   ]
  },
  {
   "cell_type": "markdown",
   "metadata": {},
   "source": [
    "## 类型\n",
    "1.求连续最大子数组和：\n",
    "\n",
    "题目要求：给定一个含有 m 个数的数组，求连续子数组和最大的子数组。\n",
    "\n",
    "例如:{6,-3,-2,7,-15,1,2,2},连续子向量的最大和为8(从第0个开始,到第3个为止)。\n",
    "\n",
    "2.剪绳子：\n",
    "\n",
    "题目要求：给你一根长度为n的绳子，请把绳子剪成整数长的m段（m、n都是整数，n>1并且m>1），每段绳子的长度记为k[0],k[1],...,k[m]。请问k[0]xk[1]x...xk[m]可能的最大乘积是多少？例如，当绳子的长度是8时，我们把它剪成长度分别为2、3、3的三段，此时得到的最大乘积是18。\n",
    "\n",
    "\n",
    "3.华为机试：\n",
    "\n",
    "题目要求：给定一个含义 m 个数的数组，分成 k 个连续份，要求最小和的子数组的和尽可能大。"
   ]
  },
  {
   "cell_type": "markdown",
   "metadata": {},
   "source": [
    "数组：[1,2,3,2,5,4] ，要求划分 3 份\n",
    "\n",
    "[1,2,3,|2,5,|4]  和分别为：6,7,4，最小字子份的和为 4\n",
    "[1,2,|3,2,|5,4]  和分别为：3,5,9,最小子份的和为 3 ，则就不如上面的更好"
   ]
  },
  {
   "cell_type": "code",
   "execution_count": null,
   "metadata": {},
   "outputs": [],
   "source": []
  },
  {
   "cell_type": "code",
   "execution_count": null,
   "metadata": {},
   "outputs": [],
   "source": []
  },
  {
   "cell_type": "code",
   "execution_count": null,
   "metadata": {},
   "outputs": [],
   "source": []
  },
  {
   "cell_type": "code",
   "execution_count": null,
   "metadata": {},
   "outputs": [],
   "source": []
  }
 ],
 "metadata": {
  "kernelspec": {
   "display_name": "Python 3",
   "language": "python",
   "name": "python3"
  },
  "language_info": {
   "codemirror_mode": {
    "name": "ipython",
    "version": 3
   },
   "file_extension": ".py",
   "mimetype": "text/x-python",
   "name": "python",
   "nbconvert_exporter": "python",
   "pygments_lexer": "ipython3",
   "version": "3.7.0"
  }
 },
 "nbformat": 4,
 "nbformat_minor": 2
}
