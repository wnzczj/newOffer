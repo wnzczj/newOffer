{
 "cells": [
  {
   "cell_type": "markdown",
   "metadata": {},
   "source": [
    "## 哈夫曼树"
   ]
  },
  {
   "cell_type": "code",
   "execution_count": 48,
   "metadata": {},
   "outputs": [],
   "source": [
    "\"\"\"\n",
    "方法1：\n",
    "题目1：哈夫曼树建立\n",
    "题目描述：给定 n = 8个节点，其对应权值 W = [7,19,2,6,32,3,21,10],对这 8 个节点构建哈夫曼树\n",
    "解题思路：\n",
    "（1）确定存储方式：数组存储，需要 1 个数组\n",
    "    1）存储哈夫曼树的数组：ha ：shape为 (n + (n-1) + 1)*4,即 2n 行，4列\n",
    "    注意：哈夫曼树会多生成 n-1 个节点，原则上使用 n+n-1 = 2n-1 行即可，但多加 1 行，因为不想使用第0行，\n",
    "    这给定的 n 个节点，从数组第 1 行开始存储即可，不使用第 0 行，方便进行后续操作。\n",
    "    这 4 列为：weight（权值）、parent（父节点序号）、left（左节点序号）、right（右节点序号）\n",
    "（2）生成树的方法：\n",
    "    1）口诀：1.构造森林全是根，2.选用两小造新树，3.删除两小添新人，4.重复 2、3 剩单根\n",
    "    2）初始化该数组，生成 2n*4 的二维数组，初始值全为 0\n",
    "    3）将给定的 n 个节点，从第 1 行开始，一次存入对应权值\n",
    "    4）按照口诀依次生成新节点，并填入节点对应的 parent、left、right 节点序号\n",
    "\"\"\"\n",
    "class Solution:\n",
    "    def hafu(self,data):\n",
    "        # 初始化数组生成：2n*4 的二维数组\n",
    "        ha = []\n",
    "        for i in range(2*len(data)):\n",
    "            ha_mid = []\n",
    "            for j in range(4):\n",
    "                ha_mid.append(0)\n",
    "            ha.append(ha_mid)\n",
    "        # 先将data排序一下\n",
    "        data = sorted(data)\n",
    "        # 依次将这 n 个节点存入数组\n",
    "        for i in range(1,len(data)+1):\n",
    "            ha[i][0] = data[i-1]\n",
    "        # 将 data 重新生成\n",
    "        new_data = {}\n",
    "        for i in range(len(data)):\n",
    "            new_data[i+1] = data[i]\n",
    "        \n",
    "        # 进行while循环\n",
    "#         while len(new_data) > 1:\n",
    "            # 将 new_data 按照key排序\n",
    "            sorted(new_data.items(),key=lambda item:item[1])\n",
    "            # 选择 3 个指针分别指向 2个最小的数的位置，新生成树的位置\n",
    "            # 选择最小的两个数的位置\n",
    "            num1,num2 = list(new_data.keys())[0],list(new_data.keys())[1]\n",
    "            # 生成新节点\n",
    "            num_new = ha[num1][0]+ha[num2][0]\n",
    "            # 新节点位置\n",
    "            num_new_loc = max(new_data.keys())+1\n",
    "            # 新节点接着空位置往下存\n",
    "            ha[num_new_loc][0] = num_new\n",
    "            # 左节点\n",
    "            ha[num_new_loc][2] = num1\n",
    "            # 右节点\n",
    "            ha[num_new_loc][3] = num2\n",
    "            # 原来节点的父节点存入生成新节点序号\n",
    "            ha[num1][1] = num_new_loc\n",
    "            ha[num2][1] = num_new_loc\n",
    "            \n",
    "            # 去掉两个最小\n",
    "            \n",
    "        return ha\n"
   ]
  },
  {
   "cell_type": "code",
   "execution_count": null,
   "metadata": {},
   "outputs": [],
   "source": [
    "import numpy as np\n",
    "\n",
    "s = Solution()\n",
    "data = [7,19,2,6,32,3,21,10]\n",
    "result = np.array(s.hafu(data))\n",
    "print(result)"
   ]
  },
  {
   "cell_type": "code",
   "execution_count": 25,
   "metadata": {},
   "outputs": [],
   "source": [
    "a = [[1,2,3],\n",
    "     [7,5,6],\n",
    "     [4,8,9]]"
   ]
  },
  {
   "cell_type": "code",
   "execution_count": 27,
   "metadata": {},
   "outputs": [
    {
     "data": {
      "text/plain": [
       "[1, 4, 7]"
      ]
     },
     "execution_count": 27,
     "metadata": {},
     "output_type": "execute_result"
    }
   ],
   "source": [
    "sorted([i[0] for i in a])"
   ]
  },
  {
   "cell_type": "code",
   "execution_count": 28,
   "metadata": {},
   "outputs": [],
   "source": [
    "b = [7,19,2,6,32,3,21,10]"
   ]
  },
  {
   "cell_type": "code",
   "execution_count": 45,
   "metadata": {},
   "outputs": [],
   "source": [
    "c = {'a':2,'b':1,'c':3}"
   ]
  },
  {
   "cell_type": "code",
   "execution_count": 42,
   "metadata": {},
   "outputs": [
    {
     "data": {
      "text/plain": [
       "2"
      ]
     },
     "execution_count": 42,
     "metadata": {},
     "output_type": "execute_result"
    }
   ],
   "source": [
    "list(c.values())[0]"
   ]
  },
  {
   "cell_type": "code",
   "execution_count": 47,
   "metadata": {},
   "outputs": [
    {
     "ename": "TypeError",
     "evalue": "'dict_items' object does not support indexing",
     "output_type": "error",
     "traceback": [
      "\u001b[1;31m---------------------------------------------------------------------------\u001b[0m",
      "\u001b[1;31mTypeError\u001b[0m                                 Traceback (most recent call last)",
      "\u001b[1;32m<ipython-input-47-88e9649bccb7>\u001b[0m in \u001b[0;36m<module>\u001b[1;34m()\u001b[0m\n\u001b[1;32m----> 1\u001b[1;33m \u001b[0mc\u001b[0m\u001b[1;33m.\u001b[0m\u001b[0mitems\u001b[0m\u001b[1;33m(\u001b[0m\u001b[1;33m)\u001b[0m\u001b[1;33m[\u001b[0m\u001b[1;36m0\u001b[0m\u001b[1;33m]\u001b[0m\u001b[1;33m\u001b[0m\u001b[0m\n\u001b[0m",
      "\u001b[1;31mTypeError\u001b[0m: 'dict_items' object does not support indexing"
     ]
    }
   ],
   "source": []
  },
  {
   "cell_type": "code",
   "execution_count": null,
   "metadata": {},
   "outputs": [],
   "source": []
  },
  {
   "cell_type": "code",
   "execution_count": null,
   "metadata": {},
   "outputs": [],
   "source": []
  },
  {
   "cell_type": "code",
   "execution_count": null,
   "metadata": {},
   "outputs": [],
   "source": []
  },
  {
   "cell_type": "code",
   "execution_count": null,
   "metadata": {},
   "outputs": [],
   "source": []
  },
  {
   "cell_type": "code",
   "execution_count": null,
   "metadata": {},
   "outputs": [],
   "source": []
  }
 ],
 "metadata": {
  "kernelspec": {
   "display_name": "Python 3",
   "language": "python",
   "name": "python3"
  },
  "language_info": {
   "codemirror_mode": {
    "name": "ipython",
    "version": 3
   },
   "file_extension": ".py",
   "mimetype": "text/x-python",
   "name": "python",
   "nbconvert_exporter": "python",
   "pygments_lexer": "ipython3",
   "version": "3.7.0"
  }
 },
 "nbformat": 4,
 "nbformat_minor": 2
}
