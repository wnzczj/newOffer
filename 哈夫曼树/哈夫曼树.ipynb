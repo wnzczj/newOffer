{
 "cells": [
  {
   "cell_type": "markdown",
   "metadata": {},
   "source": [
    "## 哈夫曼树"
   ]
  },
  {
   "cell_type": "code",
   "execution_count": 26,
   "metadata": {},
   "outputs": [
    {
     "name": "stdout",
     "output_type": "stream",
     "text": [
      "[[  0   0   0   0]\n",
      " [  7  11   0   0]\n",
      " [ 19  13   0   0]\n",
      " [  2   9   0   0]\n",
      " [  6  10   0   0]\n",
      " [ 32  14   0   0]\n",
      " [  3   9   0   0]\n",
      " [ 21  13   0   0]\n",
      " [ 10  11   0   0]\n",
      " [  5  10   3   6]\n",
      " [ 11  12   9   4]\n",
      " [ 17  12   1   8]\n",
      " [ 28  14  10  11]\n",
      " [ 40  15   2   7]\n",
      " [ 60  15  12   5]\n",
      " [100   0  13  14]]\n"
     ]
    }
   ],
   "source": [
    "\"\"\"\n",
    "方法1：\n",
    "题目1：哈夫曼树建立\n",
    "题目描述：给定 n = 8个节点，其对应权值 W = [7,19,2,6,32,3,21,10],对这 8 个节点构建哈夫曼树\n",
    "解题思路：\n",
    "（1）确定存储方式：数组存储，需要 1 个数组\n",
    "    1）存储哈夫曼树的数组：ha ：shape为 (n + (n-1) + 1)*4,即 2n 行，4列\n",
    "    注意：哈夫曼树会多生成 n-1 个节点，原则上使用 n+n-1 = 2n-1 行即可，但多加 1 行，因为不想使用第0行，\n",
    "    这给定的 n 个节点，从数组第 1 行开始存储即可，不使用第 0 行，方便进行后续操作。\n",
    "    这 4 列为：weight（权值）、parent（父节点序号）、left（左节点序号）、right（右节点序号）\n",
    "（2）生成树的方法：\n",
    "    1）口诀：1.构造森林全是根，2.选用两小造新树，3.删除两小添新人，4.重复 2、3 剩单根\n",
    "    2）初始化该数组，生成 2n*4 的二维数组，初始值全为 0\n",
    "    3）将给定的 n 个节点，从第 1 行开始，一次存入对应权值\n",
    "    4）按照口诀依次生成新节点，并填入节点对应的 parent、left、right 节点序号\n",
    "\"\"\"\n",
    "# coding:utf-8\n",
    "\n",
    "class Solution:\n",
    "    def hafu(self, data):\n",
    "        # 初始化数组生成：2n*4 的二维数组\n",
    "        ha = []\n",
    "        for i in range(2 * len(data)):\n",
    "            ha_mid = []\n",
    "            for j in range(4):\n",
    "                ha_mid.append(0)\n",
    "            ha.append(ha_mid)\n",
    "        # 依次将这 n 个节点存入数组\n",
    "        for i in range(1, len(data) + 1):\n",
    "            ha[i][0] = data[i - 1]\n",
    "        # 将 data 重新生成\n",
    "        new_data = {}\n",
    "        for i in range(len(data)):\n",
    "            new_data[i + 1] = data[i]\n",
    "\n",
    "        # 进行while循环\n",
    "        while len(new_data) > 1:\n",
    "            # 将 new_data 按照key排序\n",
    "            \"\"\"\n",
    "            注意：此处如果仅：\n",
    "            sorted(new_data.items(), key=lambda item: item[1])\n",
    "            而不用：\n",
    "            new_data1 = {}\n",
    "            for key,value in items:\n",
    "                new_data1[key] = value\n",
    "            new_data = new_data1\n",
    "            会导致错误，因为此时new_data自身并没有改变\n",
    "            \"\"\"\n",
    "            items = sorted(new_data.items(), key=lambda item: item[1])\n",
    "            new_data1 = {}\n",
    "            for key,value in items:\n",
    "                new_data1[key] = value\n",
    "            new_data = new_data1\n",
    "            # 选择 3 个指针分别指向 2个最小的数的位置，新生成树的位置\n",
    "            # 选择最小的两个数的位置\n",
    "            num1, num2 = list(new_data.keys())[0], list(new_data.keys())[1]\n",
    "            # 生成新节点\n",
    "            num_new = ha[num1][0] + ha[num2][0]\n",
    "            # 新节点位置\n",
    "            num_new_loc = max(new_data.keys()) + 1\n",
    "            # 新节点接着空位置往下存\n",
    "            ha[num_new_loc][0] = num_new\n",
    "            # 左节点\n",
    "            ha[num_new_loc][2] = num1\n",
    "            # 右节点\n",
    "            ha[num_new_loc][3] = num2\n",
    "            # 原来节点的父节点存入生成新节点序号\n",
    "            ha[num1][1] = num_new_loc\n",
    "            ha[num2][1] = num_new_loc\n",
    "\n",
    "            # 去掉两个最小值\n",
    "            new_data.pop(num1)\n",
    "            new_data.pop(num2)\n",
    "            # 添加新添加的值\n",
    "            new_data[num_new_loc] = num_new\n",
    "\n",
    "        return ha\n",
    "\n",
    "if __name__ == '__main__':\n",
    "    import numpy as np\n",
    "\n",
    "    s = Solution()\n",
    "    data = [7, 19, 2, 6, 32, 3, 21, 10]\n",
    "    result = np.array(s.hafu(data))\n",
    "    print(result)"
   ]
  },
  {
   "cell_type": "code",
   "execution_count": 39,
   "metadata": {},
   "outputs": [],
   "source": [
    "\"\"\"\n",
    "方法2：使用节点形式存储\n",
    "\"\"\"\n",
    "class Node:\n",
    "    def __init__(self,val):\n",
    "        self.val = val\n",
    "        self.left = None\n",
    "        self.right = None\n",
    "\n",
    "class Ha:\n",
    "    def ha(self,data):\n",
    "        while len(data) > 1:\n",
    "            # 将data进行排序\n",
    "            data = sorted(data)\n",
    "            # 选取前两个数，以及两数和\n",
    "            num1 = Node(data[0])\n",
    "            num2 = Node(data[1])\n",
    "            num  = Node(data[0]+data[1])\n",
    "            # 生成一个子树\n",
    "            num.left = num1\n",
    "            num.right = num2\n",
    "            # 删除前两个节点，添加新节点\n",
    "            data.append(data[0]+data[1])\n",
    "            data.pop(0)\n",
    "            data.pop(0)\n",
    "        return num"
   ]
  },
  {
   "cell_type": "code",
   "execution_count": 40,
   "metadata": {},
   "outputs": [],
   "source": [
    "data = [1,2,3]\n",
    "h = Ha()\n",
    "result = h.ha(data)"
   ]
  },
  {
   "cell_type": "code",
   "execution_count": 42,
   "metadata": {},
   "outputs": [
    {
     "data": {
      "text/plain": [
       "6"
      ]
     },
     "execution_count": 42,
     "metadata": {},
     "output_type": "execute_result"
    }
   ],
   "source": [
    "result.val"
   ]
  },
  {
   "cell_type": "code",
   "execution_count": null,
   "metadata": {},
   "outputs": [],
   "source": []
  },
  {
   "cell_type": "code",
   "execution_count": null,
   "metadata": {},
   "outputs": [],
   "source": []
  },
  {
   "cell_type": "code",
   "execution_count": null,
   "metadata": {},
   "outputs": [],
   "source": []
  },
  {
   "cell_type": "code",
   "execution_count": null,
   "metadata": {},
   "outputs": [],
   "source": []
  },
  {
   "cell_type": "code",
   "execution_count": null,
   "metadata": {},
   "outputs": [],
   "source": []
  },
  {
   "cell_type": "code",
   "execution_count": null,
   "metadata": {},
   "outputs": [],
   "source": []
  },
  {
   "cell_type": "code",
   "execution_count": null,
   "metadata": {},
   "outputs": [],
   "source": []
  },
  {
   "cell_type": "code",
   "execution_count": null,
   "metadata": {},
   "outputs": [],
   "source": []
  }
 ],
 "metadata": {
  "kernelspec": {
   "display_name": "Python 3",
   "language": "python",
   "name": "python3"
  },
  "language_info": {
   "codemirror_mode": {
    "name": "ipython",
    "version": 3
   },
   "file_extension": ".py",
   "mimetype": "text/x-python",
   "name": "python",
   "nbconvert_exporter": "python",
   "pygments_lexer": "ipython3",
   "version": "3.7.0"
  }
 },
 "nbformat": 4,
 "nbformat_minor": 2
}
