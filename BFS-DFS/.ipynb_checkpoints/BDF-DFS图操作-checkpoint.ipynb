{
 "cells": [
  {
   "cell_type": "markdown",
   "metadata": {},
   "source": [
    "## BFS-DFS 图操作"
   ]
  },
  {
   "cell_type": "code",
   "execution_count": 1,
   "metadata": {},
   "outputs": [],
   "source": [
    "# 建立图\n",
    "graph = {\n",
    "    \"A\":[\"B\",\"C\"],\n",
    "    \"B\":[\"A\",\"C\",\"D\"],\n",
    "    \"C\":[\"A\",\"B\",\"D\",\"E\"],\n",
    "    \"D\":[\"B\",\"C\",\"E\",\"F\"],\n",
    "    \"E\":[\"C\",\"D\"],\n",
    "    \"F\":[\"D\"]\n",
    "}"
   ]
  },
  {
   "cell_type": "code",
   "execution_count": 4,
   "metadata": {},
   "outputs": [],
   "source": [
    "\"\"\"\n",
    "第一部分：BFS遍历图\n",
    "（1）需要组件：队列queue，保存最后遍历结果final，记录遍历时上一个节点的final_dic\n",
    "（2）遍历方法：任选一个节点，进入队列，队列出队，出队后将没有出队的节点入队\n",
    "\"\"\"\n",
    "# BFS遍历图\n",
    "def BFS(graph):\n",
    "    # 队列\n",
    "    queue = []\n",
    "    # 如果元素已经入队，就不进行查看\n",
    "    seen = []\n",
    "    # 保存最后结果\n",
    "    final = []\n",
    "    # 保存最后结果，同时保存该节点的上一个节点\n",
    "    final_dic = {}\n",
    "    # 从A开始执行\n",
    "    queue.append(\"A\")\n",
    "    # \"A\"已经入队，在seen中保存\n",
    "    seen.append(\"A\")\n",
    "    # A 的上一个节点为 None\n",
    "    final_dic[\"A\"] = None\n",
    "    while len(queue) > 0:\n",
    "        \n",
    "        # 队列出队\n",
    "        first = queue.pop(0)\n",
    "        # 出队元素打印\n",
    "        if first not in final:\n",
    "            final.append(first)\n",
    "        # 出队元素连接的节点入队，该节点没有进入队列过\n",
    "        for i in graph[first]:\n",
    "            # 没有进入队列过\n",
    "            if i not in seen:\n",
    "                queue.append(i)\n",
    "                seen.append(i)\n",
    "                final_dic[i] = first\n",
    "    return final,final_dic,seen\n",
    "\n",
    "# DFS遍历图\n",
    "\"\"\"\n",
    "注意：DFS与BFS只有一个区别，就是把队列queue换成栈stack\n",
    "\"\"\"\n",
    "def DFS(graph):\n",
    "    # 栈\n",
    "    stack = []\n",
    "    # 如果元素已经入栈，就不进行查看\n",
    "    seen = []\n",
    "    # 保存最后结果\n",
    "    final = []\n",
    "    # 保存最后结果，同时保存该节点的上一个节点\n",
    "    final_dic = {}\n",
    "    # 从A开始执行\n",
    "    stack.append(\"A\")\n",
    "    # \"A\"已经入栈，在seen中保存\n",
    "    seen.append(\"A\")\n",
    "    # A 的上一个节点为 None\n",
    "    final_dic[\"A\"] = None\n",
    "    while len(stack) > 0:\n",
    "        # 栈出栈\n",
    "        first = stack.pop()\n",
    "        # 出栈元素打印\n",
    "        if first not in final:\n",
    "            final.append(first)\n",
    "        # 出栈元素连接的节点入栈，该节点没有进入队列过\n",
    "        for i in graph[first]:\n",
    "            # 判断是否进入队列过\n",
    "            if i not in seen:\n",
    "                stack.append(i)\n",
    "                seen.append(i)\n",
    "                final_dic[i] = first\n",
    "    return final, final_dic, seen\n",
    "\n",
    "\"\"\"\n",
    "根据BFS遍历的结果，就可以获取从某一点到起始点的最短路径\n",
    "解析：为什么BFS的遍历结果就可以用来获得最短路径，DFS就不行\n",
    "因为：BFS是按照层来遍历图的，比如上面的图，则\n",
    "第一层：A\n",
    "第二层：B，C\n",
    "第三层：D，E\n",
    "第四层：F\n",
    "所以，比如获取从D到起始点A的最短路径，肯定就是按照层级网上走：D--》B--》A\n",
    "然而，DFS就不一样：\n",
    "DFS的路径有随机性，即一条路走到黑，一直走到尽头，这样就没办法保证，是按照层级走的\n",
    "所以，这样的路径不能当成最短路径\n",
    "\"\"\"\n",
    "def BFS_road(final_dic,s):\n",
    "    # 保存路径\n",
    "    road = []\n",
    "    # 从s开始\n",
    "    road.append(s)\n",
    "    while s != None:\n",
    "        s = final_dic[s]\n",
    "        road.append(s)\n",
    "    return list(reversed(road))[1:]"
   ]
  },
  {
   "cell_type": "code",
   "execution_count": 5,
   "metadata": {},
   "outputs": [
    {
     "name": "stdout",
     "output_type": "stream",
     "text": [
      "['A', 'C', 'D']\n"
     ]
    }
   ],
   "source": [
    "final, final_dic, seen = DFS(graph)\n",
    "# 寻找路径\n",
    "result = BFS_road(final_dic,\"D\")\n",
    "print(result)"
   ]
  },
  {
   "cell_type": "code",
   "execution_count": null,
   "metadata": {},
   "outputs": [],
   "source": [
    "\"\"\"\n",
    "第二部分：BFS进阶，求有权重的图的，最短路径\n",
    "题目描述：给定一个图，相邻节点之间的连接有权重，寻找一条，最短路径。\n",
    "          即：在上面BFS最短路径的基础上，给节点间的连线增加了权重\n",
    "解题思路：\n",
    "（1）需要组件：优先队列\n",
    "（2）遍历方法：出队入队\n",
    "\"\"\"\n",
    "graph_new = {\n",
    "    \"A\":{\"B\":5,\"C\":1},\n",
    "    \"B\":{\"A\":5,\"C\":2,\"D\":1},\n",
    "    \"C\":{\"A\":1,\"B\":2,\"D\":4,\"E\":8},\n",
    "    \"D\":{\"B\":1,\"C\":4,\"E\":3,\"F\":6},\n",
    "    \"E\":{\"C\":8,\"D\":3},\n",
    "    \"F\":{\"D\":6}\n",
    "}"
   ]
  },
  {
   "cell_type": "code",
   "execution_count": null,
   "metadata": {},
   "outputs": [],
   "source": [
    "from queue import PriorityQueue\n",
    "\n",
    "p_queue = PriorityQueue()\n",
    "p_queue.put((1,'A'))\n",
    "p_queue.put((2,'B'))"
   ]
  },
  {
   "cell_type": "code",
   "execution_count": null,
   "metadata": {},
   "outputs": [],
   "source": [
    "p_queue.get()"
   ]
  },
  {
   "cell_type": "code",
   "execution_count": 14,
   "metadata": {},
   "outputs": [
    {
     "name": "stdout",
     "output_type": "stream",
     "text": [
      "(1, 'eat')\n",
      "(2, 'code')\n",
      "(3, 'sleep')\n"
     ]
    }
   ],
   "source": [
    "\n",
    "q = PriorityQueue()\n",
    "\n",
    "q.put((2, 'code'))\n",
    "q.put((1, 'eat'))\n",
    "q.put((3, 'sleep'))\n",
    "\n",
    "while not q.empty():\n",
    "    next_item = q.get()\n",
    "    print(next_item)\n",
    "\n",
    "# 结果：\n",
    "#   (1, 'eat')\n",
    "#   (2, 'code')\n",
    "#   (3, 'sleep')"
   ]
  },
  {
   "cell_type": "code",
   "execution_count": null,
   "metadata": {},
   "outputs": [],
   "source": []
  },
  {
   "cell_type": "code",
   "execution_count": null,
   "metadata": {},
   "outputs": [],
   "source": []
  },
  {
   "cell_type": "code",
   "execution_count": null,
   "metadata": {},
   "outputs": [],
   "source": []
  },
  {
   "cell_type": "code",
   "execution_count": null,
   "metadata": {},
   "outputs": [],
   "source": []
  },
  {
   "cell_type": "code",
   "execution_count": null,
   "metadata": {},
   "outputs": [],
   "source": []
  },
  {
   "cell_type": "code",
   "execution_count": null,
   "metadata": {},
   "outputs": [],
   "source": []
  },
  {
   "cell_type": "code",
   "execution_count": null,
   "metadata": {},
   "outputs": [],
   "source": []
  },
  {
   "cell_type": "code",
   "execution_count": null,
   "metadata": {},
   "outputs": [],
   "source": []
  },
  {
   "cell_type": "code",
   "execution_count": null,
   "metadata": {},
   "outputs": [],
   "source": []
  },
  {
   "cell_type": "code",
   "execution_count": null,
   "metadata": {},
   "outputs": [],
   "source": []
  },
  {
   "cell_type": "code",
   "execution_count": null,
   "metadata": {},
   "outputs": [],
   "source": []
  },
  {
   "cell_type": "code",
   "execution_count": null,
   "metadata": {},
   "outputs": [],
   "source": []
  },
  {
   "cell_type": "code",
   "execution_count": null,
   "metadata": {},
   "outputs": [],
   "source": []
  },
  {
   "cell_type": "code",
   "execution_count": null,
   "metadata": {},
   "outputs": [],
   "source": []
  },
  {
   "cell_type": "code",
   "execution_count": null,
   "metadata": {},
   "outputs": [],
   "source": []
  },
  {
   "cell_type": "code",
   "execution_count": null,
   "metadata": {},
   "outputs": [],
   "source": []
  },
  {
   "cell_type": "code",
   "execution_count": null,
   "metadata": {},
   "outputs": [],
   "source": []
  },
  {
   "cell_type": "code",
   "execution_count": null,
   "metadata": {},
   "outputs": [],
   "source": []
  }
 ],
 "metadata": {
  "kernelspec": {
   "display_name": "Python 3",
   "language": "python",
   "name": "python3"
  },
  "language_info": {
   "codemirror_mode": {
    "name": "ipython",
    "version": 3
   },
   "file_extension": ".py",
   "mimetype": "text/x-python",
   "name": "python",
   "nbconvert_exporter": "python",
   "pygments_lexer": "ipython3",
   "version": "3.7.0"
  }
 },
 "nbformat": 4,
 "nbformat_minor": 2
}
