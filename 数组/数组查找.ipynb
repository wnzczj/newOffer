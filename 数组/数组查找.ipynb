{
 "cells": [
  {
   "cell_type": "markdown",
   "metadata": {},
   "source": [
    "## 涉及题目\n",
    "40.  2 8.  35."
   ]
  },
  {
   "cell_type": "code",
   "execution_count": 1,
   "metadata": {},
   "outputs": [],
   "source": [
    "class Solution():\n",
    "    # 数组中只出现1次的数字\n",
    "    def FindNumsAppearOnce(self, array):\n",
    "        if array is []:\n",
    "            return []\n",
    "        # write code here\n",
    "        # 给每个数字添加次数\n",
    "        second = {}\n",
    "        for i in array:\n",
    "            second[i] = 0\n",
    "        # 获取次数\n",
    "        for i in array:\n",
    "            second[i] += 1\n",
    "        # 获取只出现一次的数字\n",
    "        third = []\n",
    "        for i in second.keys():\n",
    "            if second[i] == 1:\n",
    "                third.append(i)\n",
    "        return third\n",
    "    \n",
    "    # 数组中出现次数超过一半的数字\n",
    "    def MoreThanHalfNum_Solution(self, numbers):\n",
    "        if numbers is []:\n",
    "            # 注意！！：此处与上面出现1次的数字，不同的地方\n",
    "            return 0\n",
    "        # 给每个数字添加次数\n",
    "        second = {}\n",
    "        for i in numbers:\n",
    "            second[i] = 0\n",
    "        # 获取次数\n",
    "        for i in numbers:\n",
    "            second[i] += 1\n",
    "        # 获取只出现一次的数字\n",
    "        # 注意！！：此处与上面出现1次的数字，不同的地方\n",
    "        third = 0\n",
    "        for i in second.keys():\n",
    "            # 注意！！：此处与上面出现1次的数字，不同的地方\n",
    "            if second[i] > len(numbers)/2 :\n",
    "                # 注意！！：此处与上面出现1次的数字，不同的地方\n",
    "                third = i\n",
    "        return third\n",
    "    \n",
    "    "
   ]
  },
  {
   "cell_type": "code",
   "execution_count": 2,
   "metadata": {},
   "outputs": [
    {
     "name": "stdout",
     "output_type": "stream",
     "text": [
      "[6, 7]\n"
     ]
    }
   ],
   "source": [
    "# 测试\n",
    "data = [1,1,2,3,4,2,3,5,4,6,5,7]\n",
    "s = Solution()\n",
    "result = s.FindNumsAppearOnce(data)\n",
    "print(result)"
   ]
  },
  {
   "cell_type": "code",
   "execution_count": null,
   "metadata": {},
   "outputs": [],
   "source": []
  },
  {
   "cell_type": "code",
   "execution_count": null,
   "metadata": {},
   "outputs": [],
   "source": []
  },
  {
   "cell_type": "code",
   "execution_count": null,
   "metadata": {},
   "outputs": [],
   "source": []
  },
  {
   "cell_type": "code",
   "execution_count": null,
   "metadata": {},
   "outputs": [],
   "source": []
  }
 ],
 "metadata": {
  "kernelspec": {
   "display_name": "Python 3",
   "language": "python",
   "name": "python3"
  },
  "language_info": {
   "codemirror_mode": {
    "name": "ipython",
    "version": 3
   },
   "file_extension": ".py",
   "mimetype": "text/x-python",
   "name": "python",
   "nbconvert_exporter": "python",
   "pygments_lexer": "ipython3",
   "version": "3.7.0"
  }
 },
 "nbformat": 4,
 "nbformat_minor": 2
}
