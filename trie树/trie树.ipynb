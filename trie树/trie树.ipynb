{
 "cells": [
  {
   "cell_type": "markdown",
   "metadata": {},
   "source": [
    "## trie树"
   ]
  },
  {
   "cell_type": "code",
   "execution_count": null,
   "metadata": {},
   "outputs": [],
   "source": [
    "\"\"\"\n",
    "题目1：trie树建立\n",
    "题目描述：实现一个 Trie (前缀树)，包含 insert, search, 和 startsWith 这三个操作。\n",
    "    示例:\n",
    "    Trie trie = new Trie();\n",
    "    trie.insert(\"apple\");\n",
    "    trie.search(\"apple\");   // 返回 true\n",
    "    trie.search(\"app\");     // 返回 false\n",
    "    trie.startsWith(\"app\"); // 返回 true\n",
    "    trie.insert(\"app\");   \n",
    "    trie.search(\"app\");     // 返回 true\n",
    "    说明:\n",
    "    你可以假设所有的输入都是由小写字母 a-z 构成的。\n",
    "    保证所有输入均为非空字符串。\n",
    "解题思路：\n",
    "（1）根节点root\n",
    "（2）共享前缀中也存在可能是字符串的节点，要在该节点做好标记\n",
    "\"\"\""
   ]
  },
  {
   "cell_type": "code",
   "execution_count": 44,
   "metadata": {},
   "outputs": [],
   "source": [
    "from collections import defaultdict\n",
    "\n",
    "\"\"\"\n",
    "树的节点，要具备的属性\n",
    "（1）孩子节点为一个dic，因为孩子可能不止一个\n",
    "（2）该节点是否为某个单词的结尾\n",
    "\"\"\"\n",
    "class Node:\n",
    "    def __init__(self):\n",
    "        self.children = defaultdict(Node)\n",
    "        self.isWord = False\n",
    "\"\"\"\n",
    "Trie树对象\n",
    "\"\"\"\n",
    "class Trie(object):\n",
    "    def __init__(self):\n",
    "        # 保存根节点\n",
    "        self.root = Node()\n",
    "    \n",
    "    \"\"\"\n",
    "    1）插入函数：\n",
    "    （1）建立根节点root\n",
    "    （2）遍历字符串，根节点指向新节点\n",
    "    （3）依次进行\n",
    "    \"\"\"\n",
    "    def insert(self,string):\n",
    "        # 指针指向根节点\n",
    "        current = self.root\n",
    "        # 遍历字符串插入\n",
    "        for i in string:\n",
    "            \"\"\"\n",
    "            注意：current.children 是一个dic，类型defaultdict(Node)\n",
    "                  current.children[i]返回的是上面dic中key为i对应的value值，\n",
    "                  关键点：如果dic中不存在key：i，则返回一个默认的Node对象\n",
    "            \"\"\"\n",
    "            # 找到current.children这个dic中key为i所对应的那个children\n",
    "            children = current.children[i]\n",
    "            # 该children节点为当前节点，也可以理解为：指针指向该children节点\n",
    "            current = children\n",
    "        # 最后一个字符为存入的该单词的末尾字符，将其\"单词标志属性\"置为True\n",
    "        current.isWord = True\n",
    "        \n",
    "    \"\"\"\n",
    "    查找函数：\n",
    "    （1）是指trie树中，有当时保存的单词。\n",
    "         例如：trie树保存'abcd'、'ab',则查找单词'ab'则返回TRUE,查找单词'abc'则返回False\n",
    "    （2）从根节点开始查找\n",
    "    \"\"\"\n",
    "    def search(self,word):\n",
    "        # trie树指针，初始时指向根节点\n",
    "        trie_p = self.root\n",
    "        # 遍历查找\n",
    "        # word_p 作为指向 word 的指针\n",
    "        word_p = 0\n",
    "        while word_p < len(word):\n",
    "            # 如果 data_p 指向的字符在trie_p指向的节点的下一层子节点中，继续遍历\n",
    "            if word[word_p] in trie_p.children.keys():\n",
    "                # trie 树指针指向该字符对应的其孩子节点\n",
    "                trie_p = trie_p.children[word[word_p]]\n",
    "                # data 指针移到下一个\n",
    "                word_p += 1\n",
    "            else:\n",
    "                return False\n",
    "        \"\"\"\n",
    "        注意：下面必须有trie_p.isWord is True，因为该单词必须曾经存入过\n",
    "        \"\"\"\n",
    "        if word_p == len(word) and trie_p.isWord is True:\n",
    "            return True\n",
    "        else:\n",
    "            return False\n",
    "    \n",
    "    \"\"\"\n",
    "    前缀查找函数：如'ab'\n",
    "    （1）指trie树中是否有以该字符串'ab'为前缀的单词，'a'不要求一定从root下的根节点开始\n",
    "    （2）'b'也不要求一定是存入某个单词的结尾，即：'b'对应的trie树节点的 isWord 属性为TRUE\n",
    "    \"\"\"\n",
    "    def startsWith(self,prefix):\n",
    "        # trie树指针，初始时指向根节点\n",
    "        trie_p = self.root\n",
    "        # 遍历查找\n",
    "        # prefix_p 作为指向 prefix 的指针\n",
    "        prefix_p = 0\n",
    "        while prefix_p < len(prefix):\n",
    "            # 如果 data_p 指向的字符在trie_p指向的节点的下一层子节点中，继续遍历\n",
    "            if prefix[prefix_p] in trie_p.children.keys():\n",
    "                # trie 树指针指向该字符对应的其孩子节点\n",
    "                trie_p = trie_p.children[prefix[prefix_p]]\n",
    "                # data 指针移到下一个\n",
    "                prefix_p += 1\n",
    "            else:\n",
    "                return False\n",
    "        self.trie_p = trie_p\n",
    "        \"\"\"\n",
    "        注意：下面必须有trie_p.isWord is True，因为该单词必须曾经存入过\n",
    "        \"\"\"\n",
    "        if prefix_p == len(prefix) :\n",
    "            return True\n",
    "        else:\n",
    "            return False"
   ]
  },
  {
   "cell_type": "code",
   "execution_count": 137,
   "metadata": {},
   "outputs": [],
   "source": [
    "\"\"\"\n",
    "Trie树解法2：将Trie树当成图graph来做\n",
    "解题思路：\n",
    "（1）graph是一个dic，默认每个key对应value为一个dic（默认每个value对应 0 ），\n",
    "    其中，key含义：某个字符，value（dic）：为该字符下面所有的下一个字符集合词典\n",
    "    value（dic）中dic表示：每个节点是否为某个单词的结尾，如果是结尾，则对应value值改为 1 ，否则还是原来的 0 \n",
    "    例如：插入两个单词'abc','abd'，则生成的graph\n",
    "    {\n",
    "    'root':{'a':0},\n",
    "    'a':{'b':0},\n",
    "    'b':{'c':1,'d':1},\n",
    "    'c':{},\n",
    "    'd':{}\n",
    "    }\n",
    "\"\"\"\n",
    "from collections import defaultdict\n",
    "\n",
    "class newTrie(object):\n",
    "    def __init__(self):\n",
    "        self.graph = defaultdict(dict)\n",
    "        self.root = self.graph['root']\n",
    "        self.graph['root'] = defaultdict(int)\n",
    "    \n",
    "    def insert(self,data):\n",
    "        # 从根节点开始\n",
    "        current = self.graph['root']\n",
    "        # 开始遍历\n",
    "        for i in data:\n",
    "            # 将 i 插入current的孩子词典中\n",
    "            current[i]\n",
    "            # 将 i 插入graph中\n",
    "            if type(self.graph[i]) is not defaultdict:\n",
    "                self.graph[i] = defaultdict(int)\n",
    "            if i == data[-1]:\n",
    "                current[i] = 1\n",
    "            # 移动指针\n",
    "            current = self.graph[i]\n",
    "    \n",
    "    def search(self, word):\n",
    "        # trie树指针，初始时指向根节点\n",
    "        trie_p = self.graph['root']\n",
    "        # 遍历查找\n",
    "        # word_p 作为指向 word 的指针\n",
    "        word_p = 0\n",
    "        while word_p < len(word):\n",
    "            # 如果 data_p 指向的字符在trie_p指向的节点的下一层子节点中，继续遍历\n",
    "            if word[word_p] in trie_p.keys():\n",
    "                # trie 树指针指向该字符对应的其孩子节点\n",
    "                trie_p = self.graph[word[word_p]]\n",
    "                # data 指针移到下一个\n",
    "                word_p += 1\n",
    "            else:\n",
    "                return False\n",
    "        self.trie_p = word_p\n",
    "        \"\"\"\n",
    "        注意：下面必须有trie_p.isWord is True，因为该单词必须曾经存入过\n",
    "        \"\"\"\n",
    "        if word_p == len(word) and self.graph[word[word_p - 2]][word[word_p - 1]] == 1:\n",
    "            return True\n",
    "        else:\n",
    "            return False\n",
    "    \n",
    "    def startsWith(self, prefix):\n",
    "        # trie树指针，初始时指向根节点\n",
    "        trie_p = self.graph['root']\n",
    "        # 遍历查找\n",
    "        # word_p 作为指向 word 的指针\n",
    "        prefix_p = 0\n",
    "        while prefix_p < len(prefix):\n",
    "            # 如果 data_p 指向的字符在trie_p指向的节点的下一层子节点中，继续遍历\n",
    "            if prefix[prefix_p] in trie_p.keys():\n",
    "                # trie 树指针指向该字符对应的其孩子节点\n",
    "                trie_p = self.graph[prefix[prefix_p]]\n",
    "                # data 指针移到下一个\n",
    "                prefix_p += 1\n",
    "            else:\n",
    "                return False\n",
    "        \"\"\"\n",
    "        注意：下面必须有trie_p.isWord is True，因为该单词必须曾经存入过\n",
    "        \"\"\"\n",
    "        if prefix_p == len(prefix):\n",
    "            return True\n",
    "        else:\n",
    "            return False"
   ]
  },
  {
   "cell_type": "code",
   "execution_count": 138,
   "metadata": {},
   "outputs": [],
   "source": [
    "newtrie = newTrie()\n",
    "newtrie.insert('abb')"
   ]
  },
  {
   "cell_type": "code",
   "execution_count": 125,
   "metadata": {},
   "outputs": [],
   "source": [
    "newtrie.insert('ab')"
   ]
  },
  {
   "cell_type": "code",
   "execution_count": 133,
   "metadata": {},
   "outputs": [
    {
     "data": {
      "text/plain": [
       "False"
      ]
     },
     "execution_count": 133,
     "metadata": {},
     "output_type": "execute_result"
    }
   ],
   "source": [
    "newtrie.search('ab')"
   ]
  },
  {
   "cell_type": "code",
   "execution_count": 118,
   "metadata": {},
   "outputs": [
    {
     "name": "stdout",
     "output_type": "stream",
     "text": [
      "None\n"
     ]
    }
   ],
   "source": [
    "print(newtrie.trie_p)"
   ]
  },
  {
   "cell_type": "code",
   "execution_count": 139,
   "metadata": {},
   "outputs": [
    {
     "data": {
      "text/plain": [
       "defaultdict(dict,\n",
       "            {'root': defaultdict(int, {'a': 0}),\n",
       "             'a': defaultdict(int, {'b': 1}),\n",
       "             'b': defaultdict(int, {'b': 1})})"
      ]
     },
     "execution_count": 139,
     "metadata": {},
     "output_type": "execute_result"
    }
   ],
   "source": [
    "newtrie.graph"
   ]
  },
  {
   "cell_type": "code",
   "execution_count": 41,
   "metadata": {},
   "outputs": [],
   "source": [
    "trie = Trie()\n",
    "trie.insert('abc')"
   ]
  },
  {
   "cell_type": "code",
   "execution_count": 33,
   "metadata": {},
   "outputs": [],
   "source": [
    "trie.insert('ab')"
   ]
  },
  {
   "cell_type": "code",
   "execution_count": 43,
   "metadata": {},
   "outputs": [
    {
     "data": {
      "text/plain": [
       "False"
      ]
     },
     "execution_count": 43,
     "metadata": {},
     "output_type": "execute_result"
    }
   ],
   "source": [
    "trie.search('ab')"
   ]
  },
  {
   "cell_type": "code",
   "execution_count": 27,
   "metadata": {},
   "outputs": [
    {
     "data": {
      "text/plain": [
       "defaultdict(__main__.Node, {'c': <__main__.Node at 0x52ed9a2e80>})"
      ]
     },
     "execution_count": 27,
     "metadata": {},
     "output_type": "execute_result"
    }
   ],
   "source": [
    "trie.trie_p.children"
   ]
  },
  {
   "cell_type": "code",
   "execution_count": 14,
   "metadata": {},
   "outputs": [
    {
     "data": {
      "text/plain": [
       "True"
      ]
     },
     "execution_count": 14,
     "metadata": {},
     "output_type": "execute_result"
    }
   ],
   "source": [
    "'a' in trie.root.children.keys()"
   ]
  },
  {
   "cell_type": "code",
   "execution_count": null,
   "metadata": {},
   "outputs": [],
   "source": []
  },
  {
   "cell_type": "code",
   "execution_count": null,
   "metadata": {},
   "outputs": [],
   "source": []
  },
  {
   "cell_type": "code",
   "execution_count": null,
   "metadata": {},
   "outputs": [],
   "source": []
  },
  {
   "cell_type": "code",
   "execution_count": null,
   "metadata": {},
   "outputs": [],
   "source": []
  },
  {
   "cell_type": "code",
   "execution_count": null,
   "metadata": {},
   "outputs": [],
   "source": []
  },
  {
   "cell_type": "code",
   "execution_count": null,
   "metadata": {},
   "outputs": [],
   "source": []
  },
  {
   "cell_type": "code",
   "execution_count": null,
   "metadata": {},
   "outputs": [],
   "source": []
  },
  {
   "cell_type": "code",
   "execution_count": null,
   "metadata": {},
   "outputs": [],
   "source": []
  },
  {
   "cell_type": "code",
   "execution_count": null,
   "metadata": {},
   "outputs": [],
   "source": []
  },
  {
   "cell_type": "code",
   "execution_count": null,
   "metadata": {},
   "outputs": [],
   "source": []
  },
  {
   "cell_type": "code",
   "execution_count": null,
   "metadata": {},
   "outputs": [],
   "source": []
  }
 ],
 "metadata": {
  "kernelspec": {
   "display_name": "Python 3",
   "language": "python",
   "name": "python3"
  },
  "language_info": {
   "codemirror_mode": {
    "name": "ipython",
    "version": 3
   },
   "file_extension": ".py",
   "mimetype": "text/x-python",
   "name": "python",
   "nbconvert_exporter": "python",
   "pygments_lexer": "ipython3",
   "version": "3.7.0"
  }
 },
 "nbformat": 4,
 "nbformat_minor": 2
}
