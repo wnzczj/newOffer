{
 "cells": [
  {
   "cell_type": "markdown",
   "metadata": {},
   "source": [
    "## 数组类\n",
    "33.丑数"
   ]
  },
  {
   "cell_type": "code",
   "execution_count": null,
   "metadata": {},
   "outputs": [],
   "source": [
    "# -*- coding:utf-8 -*-\n",
    "class Solution:\n",
    "    def __init__(self):\n",
    "        # 丑数最终结果\n",
    "        self.fina = [1]\n",
    "    # 丑数：\n",
    "    # 思路：\n",
    "    # （1）：原始数据：[1]\n",
    "    # （2）：查看3个数据，选取最小者为[1]之后新增丑数\n",
    "    #        a2,a3,a5 = 0,0,0\n",
    "    #        new2 = self.fina[a2]*2  = 2\n",
    "    #        new3 = self.fina[a3]*3  = 3\n",
    "    #        new5 = self.fina[a5]*5  = 5\n",
    "    # 发现，其中 2 最小，则 2 作为新一个丑数\n",
    "    # （3）：将 a2 + 1，也即选取丑数数组中第 2 个去和 2 相乘\n",
    "    # 即：   new2 = self.fina[a2]*2  = self.fina[1]*2 = 4\n",
    "    #        new3 = self.fina[a3]*3  = self.fina[0]*3 = 3\n",
    "    #        new5 = self.fina[a5]*5  = self.fina[0]*5 = 5\n",
    "    # 则：选最小的 new3 ：3，为下一个丑数，并 a3 + 1\n",
    "    # 即：选取丑数数组中第 2 个去和 3 相乘\n",
    "    # 以此类推。。\n",
    "    def GetUglyNumber_Solution(self, index):\n",
    "        if index <= 0:\n",
    "            return\n",
    "        a2,a3,a5 = 0,0,0\n",
    "        for i in range(10):\n",
    "            new2 = self.fina[a2]*2\n",
    "            new3 = self.fina[a3]*3\n",
    "            new5 = self.fina[a5]*5\n",
    "            minNum = min(new2,new3,new5)\n",
    "            self.fina.append(minNum)\n",
    "            if minNum == new2:\n",
    "                a2 += 1\n",
    "            if minNum == new3:\n",
    "                a3 += 1\n",
    "            if minNum == new5:\n",
    "                a5 += 1\n",
    "        return self.fina[index-1]\n"
   ]
  },
  {
   "cell_type": "code",
   "execution_count": null,
   "metadata": {},
   "outputs": [],
   "source": [
    "data = [1,2,3,5]\n",
    "s = Solution()\n",
    "result = s.GetUglyNumber_Solution(10)\n",
    "print(result)"
   ]
  }
 ],
 "metadata": {
  "kernelspec": {
   "display_name": "Python 3",
   "language": "python",
   "name": "python3"
  },
  "language_info": {
   "codemirror_mode": {
    "name": "ipython",
    "version": 3
   },
   "file_extension": ".py",
   "mimetype": "text/x-python",
   "name": "python",
   "nbconvert_exporter": "python",
   "pygments_lexer": "ipython3",
   "version": "3.7.0"
  }
 },
 "nbformat": 4,
 "nbformat_minor": 2
}
