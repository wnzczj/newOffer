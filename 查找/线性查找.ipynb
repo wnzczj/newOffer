{
 "cells": [
  {
   "cell_type": "code",
   "execution_count": 2,
   "metadata": {},
   "outputs": [],
   "source": [
    "class Solution:\n",
    "    # 顺序查找\n",
    "    def shunxu(self,data,num):\n",
    "        for i in data:\n",
    "            if i == num:\n",
    "                return True\n",
    "        return False\n",
    "    # 折半查找（也被称为：二分查找）\n",
    "    def zheban(self,data,num):\n",
    "        low = 0\n",
    "        high = len(data)-1\n",
    "        while low < high:\n",
    "            if data[int((low+high)/2)] < num:\n",
    "                low = int((low+high)/2)\n",
    "                continue\n",
    "            if data[int((low+high)/2)] > num:\n",
    "                high = int((low+high)/2)\n",
    "                continue\n",
    "            if data[int((low+high)/2)] == num:\n",
    "                return True\n",
    "        return False\n",
    "    # 分块查找\n",
    "    # 第（1）步：确定所在快\n",
    "    # 第（2）步：在所在块内按照“顺序/折半”进行查找\n",
    "    def fenkaui(self,data,index,num):\n",
    "        first = 0\n",
    "        for i in index.values():\n",
    "            if data[i] > num:\n",
    "                first = i-5\n",
    "                break\n",
    "        data = data[first:first+5]\n",
    "        second = self.zheban(data,num)\n",
    "        return second"
   ]
  },
  {
   "cell_type": "code",
   "execution_count": 3,
   "metadata": {},
   "outputs": [
    {
     "name": "stdout",
     "output_type": "stream",
     "text": [
      "True\n"
     ]
    }
   ],
   "source": [
    "data = [1,2,3,4]\n",
    "s = Solution()\n",
    "result = s.shunxu(data,1)\n",
    "print(result)"
   ]
  },
  {
   "cell_type": "code",
   "execution_count": null,
   "metadata": {},
   "outputs": [],
   "source": [
    "# 分块查找测试用例\n",
    "data = [1,2,3,4,5,\n",
    "            6,7,8,9,10,\n",
    "            11,12,13,14,15,\n",
    "            16,17,18,19,20]\n",
    "index = {1:0,6:5,11:10,16:15}\n",
    "\n",
    "s = Solution()\n",
    "result = s.fenkaui(data,index,13.1)\n",
    "print(result)"
   ]
  }
 ],
 "metadata": {
  "kernelspec": {
   "display_name": "Python 3",
   "language": "python",
   "name": "python3"
  },
  "language_info": {
   "codemirror_mode": {
    "name": "ipython",
    "version": 3
   },
   "file_extension": ".py",
   "mimetype": "text/x-python",
   "name": "python",
   "nbconvert_exporter": "python",
   "pygments_lexer": "ipython3",
   "version": "3.7.0"
  }
 },
 "nbformat": 4,
 "nbformat_minor": 2
}
