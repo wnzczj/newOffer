{
 "cells": [
  {
   "cell_type": "markdown",
   "metadata": {},
   "source": [
    "## 队列、栈"
   ]
  },
  {
   "cell_type": "code",
   "execution_count": 1,
   "metadata": {},
   "outputs": [],
   "source": [
    "\"\"\"\n",
    "题目1：单调栈\n",
    "题目描述：给你一个数组，返回一个等长的数组，对应索引存储着下一个更大元素，\n",
    "          如果没有更大的元素，就存 -1。\n",
    "        例如：给你一个数组 [2,1,2,4,3]，你返回数组 [4,2,4,-1,-1]。\n",
    "        解释：第一个 2 后面比 2 大的数是 4; 1 后面比 1 大的数是 2；\n",
    "        第二个 2 后面比 2 大的数是 4; 4 后面没有比 4 大的数，填 -1；3 后面没有比 3 大的数，填 -1。\n",
    "思路：基础上：https://mp.weixin.qq.com/s?__biz=MzAxODQxMDM0Mw==&mid=2247484525&amp;idx=1&amp;sn=3d2e63694607fec72455a52d9b15d4e5&source=41#wechat_redirect\n",
    "（1）建立一个栈：一个身高递增的栈\n",
    "（2）从后往前遍历list，将栈中比他身高小的数出栈，从而找到一个栈中第一个比他高的数\n",
    "     同时，也方便后面他入栈，从而保证建立的是一个身高递增的栈\n",
    "（3）此时，栈中第一个数，就是他后面第一个比他高的数\n",
    "（4）将该数入栈\n",
    "\"\"\"\n",
    "class Solution:\n",
    "    def nextGreater(self,data):\n",
    "        final = []\n",
    "        # 建立栈\n",
    "        stack = []\n",
    "        for i in range(len(data)-1,-1,-1):\n",
    "            # 将栈中比 i 高的数出栈\n",
    "            while(len(stack)>0 and stack[-1]<=data[i]):\n",
    "                stack.pop()\n",
    "            # 此时栈顶的数为该数在原数组中后面第一个比他高的数\n",
    "            final.append([data[i],stack[-1]]) if len(stack) >0 else final.append([data[i],-1])\n",
    "            # 该数进栈\n",
    "            stack.append(data[i])\n",
    "        return list(reversed(final))"
   ]
  },
  {
   "cell_type": "code",
   "execution_count": 2,
   "metadata": {},
   "outputs": [
    {
     "name": "stdout",
     "output_type": "stream",
     "text": [
      "[[2, 4], [1, 2], [2, 4], [4, -1], [3, -1]]\n"
     ]
    }
   ],
   "source": [
    "s = Solution()\n",
    "data = [2,1,2,4,3]\n",
    "result = s.nextGreater(data)\n",
    "print(result)"
   ]
  },
  {
   "cell_type": "code",
   "execution_count": 3,
   "metadata": {},
   "outputs": [],
   "source": [
    "\"\"\"\n",
    "题目2：包含min函数的栈\n",
    "\n",
    "\"\"\"\n",
    "# -*- coding:utf-8 -*-\n",
    "class Solution:\n",
    "    def __init__(self):\n",
    "        self.stack = []\n",
    "        self.minStack = []\n",
    "\n",
    "    def push(self, node):\n",
    "        \"\"\"\n",
    "        步骤：\n",
    "        （1）原始栈：安装顺序添加即可\n",
    "        （2）min栈：如果 node > min栈的栈顶元素\n",
    "            则：该node就不进入min栈\n",
    "            这样就能保证min栈是一个递增栈+.\n",
    "        \"\"\"\n",
    "        self.stack.append(node)\n",
    "        if len(self.minStack) > 0 and self.minStack[-1] >= node:\n",
    "            self.minStack.append(node)\n",
    "        elif len(self.minStack) <= 0:\n",
    "            self.minStack.append(node)\n",
    "\n",
    "    def pop(self):\n",
    "        # 原始栈按照惯例pop\n",
    "        first = self.stack.pop()\n",
    "        \"\"\"\n",
    "        min栈：\n",
    "        （1）如果原始栈中pop出来的数 > min栈栈顶元素，则min栈不用pop，因为该元素本来就没进入min栈\n",
    "        （2）如果原始栈中pop出来的数 <= min栈栈顶元素，则min栈进行pop\n",
    "        \"\"\"\n",
    "        if first <= self.minStack[-1]:\n",
    "            self.minStack.pop()\n",
    "\n",
    "    def top(self):\n",
    "        return self.stack[-1]\n",
    "\n",
    "    def min(self):\n",
    "        return self.minStack[-1]\n",
    "\n",
    "if __name__ == '__main__':\n",
    "    s = Solution()\n",
    "    s.push(2)\n",
    "    s.push(1)\n",
    "    s.push(2)\n",
    "    s.push(4)\n",
    "    s.push(3)\n"
   ]
  },
  {
   "cell_type": "code",
   "execution_count": null,
   "metadata": {},
   "outputs": [],
   "source": []
  },
  {
   "cell_type": "code",
   "execution_count": null,
   "metadata": {},
   "outputs": [],
   "source": []
  },
  {
   "cell_type": "code",
   "execution_count": null,
   "metadata": {},
   "outputs": [],
   "source": []
  },
  {
   "cell_type": "code",
   "execution_count": null,
   "metadata": {},
   "outputs": [],
   "source": []
  },
  {
   "cell_type": "code",
   "execution_count": null,
   "metadata": {},
   "outputs": [],
   "source": []
  },
  {
   "cell_type": "code",
   "execution_count": null,
   "metadata": {},
   "outputs": [],
   "source": []
  },
  {
   "cell_type": "code",
   "execution_count": null,
   "metadata": {},
   "outputs": [],
   "source": []
  },
  {
   "cell_type": "code",
   "execution_count": null,
   "metadata": {},
   "outputs": [],
   "source": []
  },
  {
   "cell_type": "code",
   "execution_count": null,
   "metadata": {},
   "outputs": [],
   "source": []
  },
  {
   "cell_type": "code",
   "execution_count": null,
   "metadata": {},
   "outputs": [],
   "source": []
  },
  {
   "cell_type": "code",
   "execution_count": null,
   "metadata": {},
   "outputs": [],
   "source": []
  },
  {
   "cell_type": "code",
   "execution_count": null,
   "metadata": {},
   "outputs": [],
   "source": []
  },
  {
   "cell_type": "code",
   "execution_count": null,
   "metadata": {},
   "outputs": [],
   "source": []
  },
  {
   "cell_type": "code",
   "execution_count": null,
   "metadata": {},
   "outputs": [],
   "source": []
  },
  {
   "cell_type": "code",
   "execution_count": null,
   "metadata": {},
   "outputs": [],
   "source": []
  },
  {
   "cell_type": "code",
   "execution_count": null,
   "metadata": {},
   "outputs": [],
   "source": []
  }
 ],
 "metadata": {
  "kernelspec": {
   "display_name": "Python 3",
   "language": "python",
   "name": "python3"
  },
  "language_info": {
   "codemirror_mode": {
    "name": "ipython",
    "version": 3
   },
   "file_extension": ".py",
   "mimetype": "text/x-python",
   "name": "python",
   "nbconvert_exporter": "python",
   "pygments_lexer": "ipython3",
   "version": "3.7.0"
  }
 },
 "nbformat": 4,
 "nbformat_minor": 2
}
