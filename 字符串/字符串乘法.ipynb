{
 "cells": [
  {
   "cell_type": "markdown",
   "metadata": {},
   "source": [
    "## 字符串的加法+乘法"
   ]
  },
  {
   "cell_type": "code",
   "execution_count": 4,
   "metadata": {},
   "outputs": [],
   "source": [
    "\"\"\"\n",
    "题目1：字符串的乘法\n",
    "（1）题目描述：题目目的---》解决两个大数的相乘\n",
    "给定两个以字符串形式表示的非负整数 num1 和 num2，返回 num1 和 num2 的乘积，它们的乘积也表示为字符串形式。\n",
    "示例 1:\n",
    "输入: num1 = \"2\", num2 = \"3\"\n",
    "输出: \"6\"\n",
    "示例 2:\n",
    "输入: num1 = \"123\", num2 = \"45\"\n",
    "输出: \"56088\"\n",
    "（2）解题思路：\n",
    "1）两个指针，指向两个数：j,i，一个数组总长度：len(num1) + len(num2) +1\n",
    "2）按住 i 不动，去遍历 j，其中，i，j都是从后往前遍历，并在数组的 [i+j],[i+j+1] 两个位置保存相乘结果 + 原来在 [i+j],[i+j+1] 两个位置的值\n",
    "\"\"\"\n",
    "class Solution(object):\n",
    "    def multiply(self, num1, num2):\n",
    "        # 创建保存最后结果的矩阵\n",
    "        final = ['0' for i in range(len(num1)+len(num2))]\n",
    "        # 保存值\n",
    "        for i in range(len(num2)-1,-1,-1):\n",
    "            for j in range(len(num1)-1,-1,-1):\n",
    "                # 获得相乘结果\n",
    "                num_mu = int(num2[i]) * int(num1[j])\n",
    "                # 获得final里 [:i+j+1+] 位置的数\n",
    "                num_in = int(''.join(final[:i+j+2]))\n",
    "                # 相加更新final里 [:i+j+1+] 位置的数\n",
    "                \"\"\"\n",
    "                注意：下面如果：final[:i+j+2] = mid  <-- 错误\n",
    "                因为：直接因为len(final[:i+j+2]) != len(mid)\n",
    "                所以：导致list覆盖出现错误\n",
    "                \"\"\"\n",
    "                mid = list(str(num_mu+num_in))\n",
    "                final[i+j+2-len(mid):i+j+2] = mid\n",
    "        return str(int(''.join(final)))"
   ]
  },
  {
   "cell_type": "code",
   "execution_count": 5,
   "metadata": {},
   "outputs": [
    {
     "name": "stdout",
     "output_type": "stream",
     "text": [
      "998001\n"
     ]
    }
   ],
   "source": [
    "s = Solution()\n",
    "num1 = '999'\n",
    "num2 = '999'\n",
    "result = s.multiply(num1,num2)\n",
    "print(result)"
   ]
  },
  {
   "cell_type": "code",
   "execution_count": null,
   "metadata": {},
   "outputs": [],
   "source": []
  },
  {
   "cell_type": "code",
   "execution_count": null,
   "metadata": {},
   "outputs": [],
   "source": []
  },
  {
   "cell_type": "code",
   "execution_count": null,
   "metadata": {},
   "outputs": [],
   "source": []
  },
  {
   "cell_type": "code",
   "execution_count": null,
   "metadata": {},
   "outputs": [],
   "source": []
  },
  {
   "cell_type": "code",
   "execution_count": null,
   "metadata": {},
   "outputs": [],
   "source": []
  },
  {
   "cell_type": "code",
   "execution_count": null,
   "metadata": {},
   "outputs": [],
   "source": []
  }
 ],
 "metadata": {
  "kernelspec": {
   "display_name": "Python 3",
   "language": "python",
   "name": "python3"
  },
  "language_info": {
   "codemirror_mode": {
    "name": "ipython",
    "version": 3
   },
   "file_extension": ".py",
   "mimetype": "text/x-python",
   "name": "python",
   "nbconvert_exporter": "python",
   "pygments_lexer": "ipython3",
   "version": "3.7.0"
  }
 },
 "nbformat": 4,
 "nbformat_minor": 2
}
