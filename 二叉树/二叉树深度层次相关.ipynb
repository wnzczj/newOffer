{
 "cells": [
  {
   "cell_type": "code",
   "execution_count": 1,
   "metadata": {},
   "outputs": [],
   "source": [
    "# 定义二叉树\n",
    "class TreeNode:\n",
    "    def __init__(self, x):\n",
    "        self.val = x\n",
    "        self.left = None\n",
    "        self.right = None\n",
    "# 定义栈\n",
    "class Stack:\n",
    "    def __init__(self):\n",
    "        self.val = []\n",
    "    def push(self,x):\n",
    "        self.val.append(x)\n",
    "    def pop(self):\n",
    "        self.val.pop()\n",
    "# 定义队列\n",
    "class Queue:\n",
    "    def __init__(self):\n",
    "        self.val = []\n",
    "    def push(self,x):\n",
    "        self.val.append(x)\n",
    "    def pop(self):\n",
    "        popVal = self.val.pop(0)\n",
    "        return popVal"
   ]
  },
  {
   "cell_type": "code",
   "execution_count": 2,
   "metadata": {},
   "outputs": [],
   "source": [
    "# 搭建树结构\n",
    "n1 = TreeNode(1)\n",
    "n2 = TreeNode(2)\n",
    "n3 = TreeNode(3)\n",
    "n4 = TreeNode(4)\n",
    "n5 = TreeNode(5)\n",
    "n6 = TreeNode(6)\n",
    "n7 = TreeNode(7)\n",
    "n8 = TreeNode(8)\n",
    "n9 = TreeNode(9)\n",
    "n10 = TreeNode(10)\n",
    "n1.left = n2\n",
    "n1.right = n3\n",
    "n2.left = n4\n",
    "n2.right = n5\n",
    "n4.left = n8\n",
    "n4.right = n9\n",
    "n3.left = n6\n",
    "n3.right = n7"
   ]
  },
  {
   "cell_type": "code",
   "execution_count": 13,
   "metadata": {},
   "outputs": [],
   "source": [
    "# 定义解决方法\n",
    "class Solution:\n",
    "    def __init__(self):\n",
    "        # 存储层次遍历\n",
    "        self.depthLis1 = []\n",
    "        # \n",
    "    # 二叉树深度，有两种方法\n",
    "    # 方法1：第（1）步：根据之前层次遍历，第（2）步：查层数即为深度。\n",
    "    # 方法2：第（1）步：获取所有路径，第（2）步：路径最长者为深度\n",
    "    # 方法1\n",
    "    def depth1(self, pNode):\n",
    "        if pNode is None:\n",
    "            return 0\n",
    "        # 建立队列\n",
    "        queue = Queue()\n",
    "        # 根节点入队\n",
    "        queue.push([pNode, 0])\n",
    "        self.depthLis1.append([pNode.val, 1])\n",
    "        while (len(queue.val) > 0):\n",
    "            # 出队\n",
    "            first = queue.pop()\n",
    "            if first[0] != pNode:\n",
    "                self.depthLis1.append([first[0].val, first[1] + 1])\n",
    "            # 入队\n",
    "            if first[0].left is not None:\n",
    "                queue.push([first[0].left, first[1] + 1])\n",
    "            if first[0].right is not None:\n",
    "                queue.push([first[0].right, first[1] + 1])\n",
    "        depth1_Result = self.depthLis1[-1][1]\n",
    "        return depth1_Result\n",
    "    \n",
    "    # 方法2\n",
    "    def depth2(self, pNode):\n",
    "        # 获取所有的路径\n",
    "        depth2Path = self.path(pNode)\n",
    "        # 返回最大长度\n",
    "        depth2Result = []\n",
    "        for i in depth2Path:\n",
    "            depth2Result.append(len(i))\n",
    "        return max(depth2Result)\n",
    "    \n",
    "    # 二叉树所有路径\n",
    "    def path(self, pNode):\n",
    "        if pNode.left is None and pNode.right is None:\n",
    "            return pNode.val\n",
    "        pathResult = []\n",
    "        pathLeft = self.path(pNode.left)\n",
    "        pathRight = self.path(pNode.right)\n",
    "        for i in [pathLeft,pathRight]:\n",
    "            if type(i) is not int:\n",
    "                for j in i:\n",
    "                    pathResult.append([pNode.val] + j)\n",
    "            else:\n",
    "                pathResult.append([pNode.val] + [i])\n",
    "        return pathResult\n",
    "    \n",
    "    # 二叉树叶子节点：\n",
    "    # 第（1）步：获取所有路径，第（2）步：取每个节点最后一个元素（也即叶子节点）\n",
    "    def Leaf(self,pNode):\n",
    "        # 获取所有路径\n",
    "        leafPath = self.path(pNode)\n",
    "        # 取每个路径最后一个元素\n",
    "        leafResult = []\n",
    "        for i in leafPath:\n",
    "            leafResult.append(i[-1])\n",
    "        return leafResult\n",
    "    \n",
    "    # 二叉树和为某一值的路径：\n",
    "    # 第（1）步：获取所有路径，第（2）步：求出每个路径和，选取对应路径\n",
    "    def sumPath(self,pNode,sumData):\n",
    "        # 求所有路径：\n",
    "        allPath = self.path(pNode)\n",
    "        # 获得每个路径和\n",
    "        sumResult = {}\n",
    "        for i in allPath:\n",
    "            sumResult[sum(i)] = i\n",
    "        return sumResult[sumData]\n",
    "    \n",
    "    # 平衡二叉树\n",
    "    # 方法：（1）根据深度计算方法，计算左子树和右子树的深度\n",
    "    # （2）查看左右子树的深度差的绝对值，看是否大于1\n",
    "    def balance(self,pNode):\n",
    "        \n",
    "    \n",
    "    \n",
    "    "
   ]
  },
  {
   "cell_type": "code",
   "execution_count": 14,
   "metadata": {},
   "outputs": [],
   "source": [
    "s = Solution()\n",
    "a1 = s.sumPath(n1,8)"
   ]
  },
  {
   "cell_type": "code",
   "execution_count": 15,
   "metadata": {},
   "outputs": [
    {
     "data": {
      "text/plain": [
       "[1, 2, 5]"
      ]
     },
     "execution_count": 15,
     "metadata": {},
     "output_type": "execute_result"
    }
   ],
   "source": [
    "a1"
   ]
  },
  {
   "cell_type": "code",
   "execution_count": null,
   "metadata": {},
   "outputs": [],
   "source": []
  },
  {
   "cell_type": "code",
   "execution_count": null,
   "metadata": {},
   "outputs": [],
   "source": []
  },
  {
   "cell_type": "code",
   "execution_count": null,
   "metadata": {},
   "outputs": [],
   "source": []
  },
  {
   "cell_type": "code",
   "execution_count": null,
   "metadata": {},
   "outputs": [],
   "source": []
  },
  {
   "cell_type": "code",
   "execution_count": null,
   "metadata": {},
   "outputs": [],
   "source": []
  },
  {
   "cell_type": "code",
   "execution_count": null,
   "metadata": {},
   "outputs": [],
   "source": []
  },
  {
   "cell_type": "code",
   "execution_count": null,
   "metadata": {},
   "outputs": [],
   "source": []
  },
  {
   "cell_type": "code",
   "execution_count": null,
   "metadata": {},
   "outputs": [],
   "source": []
  },
  {
   "cell_type": "code",
   "execution_count": null,
   "metadata": {},
   "outputs": [],
   "source": []
  }
 ],
 "metadata": {
  "kernelspec": {
   "display_name": "Python 3",
   "language": "python",
   "name": "python3"
  },
  "language_info": {
   "codemirror_mode": {
    "name": "ipython",
    "version": 3
   },
   "file_extension": ".py",
   "mimetype": "text/x-python",
   "name": "python",
   "nbconvert_exporter": "python",
   "pygments_lexer": "ipython3",
   "version": "3.7.0"
  }
 },
 "nbformat": 4,
 "nbformat_minor": 2
}
